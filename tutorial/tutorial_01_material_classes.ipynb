{
  "cells": [
    {
      "cell_type": "markdown",
      "metadata": {
        "id": "C30Xe311ePd3"
      },
      "source": [
        "<h1>The BurnMan Tutorial</h1>\n",
        "<h2>Part 1: Material Classes</h2>\n",
        "This file is part of BurnMan - a thermoelastic and thermodynamic toolkit\n",
        "for the Earth and Planetary Sciences\n",
        "\n",
        "Copyright (C) 2012 - 2021 by the BurnMan team,\n",
        "released under the GNU GPL v2 or later.\n"
      ]
    },
    {
      "cell_type": "markdown",
      "metadata": {
        "id": "13QqqnL6UzBk"
      },
      "source": [
        "# Introduction\n",
        "\n",
        "This ipython notebook is the first in a series designed to introduce new users to the code structure and functionalities present in BurnMan.\n",
        "\n",
        "## Demonstrates\n",
        "\n",
        "1. burnman.Mineral: Equations of state, property modification schemes, initialization, interrogating properties at given pressure and temperature. \n",
        "2. burnman.CombinedMineral: Initialization (otherwise similar to mineral).\n",
        "3. burnman.SolidSolution: Formulations (ideal, asymmetric, subregular), initialization, interrogating properties at given pressure, temperature and composition. \n",
        "4. burnman.Composite: Initialization, interrogating properties at given pressure, temperature, phase proportions and using different seismic averaging schemes. \n",
        "\n",
        "\n",
        "Everything in BurnMan and in this tutorial is defined in SI units. "
      ]
    },
    {
      "cell_type": "markdown",
      "metadata": {},
      "source": [
        "## Acknowledgments\n",
        "\n",
        "The authors are grateful to M. Ghiorso for useful discussions. R.M. would like to thank B. Watterson for the concept of Planet Zog (see Part 3: Layers and Planets). \n",
        "\n",
        "This project was initiated at, and follow-up research support was received through, CIDER (NSF FESD grant 1135452). The development of BurnMan has been supported by the Computational Infrastructure for Geodynamics initiative (CIG), through the Science and Technologies Funding Council (U.K.) under Award No. ST/R001332/1 and through the Natural Environment Research Council (U.K.) Large Grant MC-squared (Award No. NE/T012633/1). The authors have also received support from the University of California - Davis."
      ]
    },
    {
      "cell_type": "markdown",
      "metadata": {
        "id": "eFXuzpvW0rm2"
      },
      "source": [
        "## Getting started with BurnMan\n",
        "\n",
        "Our first task is to decide on the version of BurnMan to use for this session.\n",
        "As this tutorial is stored within the BurnMan repository, it should always be consistent with the local version of BurnMan. Therefore, we have two choices. We could install this version using pip, allowing it to be used from any location (with the same version of python). Alternatively, we could just import locally, without installing."
      ]
    },
    {
      "cell_type": "code",
      "execution_count": null,
      "metadata": {},
      "outputs": [],
      "source": [
        "install = False\n",
        "\n",
        "if install:\n",
        "    !pip install ..\n",
        "else:\n",
        "    import os\n",
        "    import sys\n",
        "    if not os.path.exists('burnman') and os.path.exists('../../burnman'):\n",
        "        sys.path.insert(1, os.path.abspath('../../'))\n",
        "\n",
        "import burnman"
      ]
    },
    {
      "cell_type": "markdown",
      "metadata": {
        "id": "8dUVLJm4j60k"
      },
      "source": [
        "# Types of BurnMan Material objects\n",
        "\n",
        "The BurnMan package allows users to define and use objects that represent different kinds of Materials. The most important classes of Material are named Mineral, SolidSolution and Composite. In the following subsections, we show how users can create objects of each type, set their state (pressure and temperature) and composition, and interrogate them for their material properties."
      ]
    },
    {
      "cell_type": "markdown",
      "metadata": {
        "id": "Eg_CMwbBjxi5"
      },
      "source": [
        "## Mineral objects\n",
        "\n",
        "Mineral objects are the building blocks for more complex objects in BurnMan.  These objects are intended to represent minerals (or melts, or fluids) of fixed composition, with a well-defined equation of state that defines the relationship between the current state (pressure and temperature) of the mineral and its thermodynamic potentials and derivatives (such as Gibbs energy, volume and entropy). \n",
        "\n",
        "Mineral objects are initialized with a “params” dictionary containing all of the parameters required by the desired equation of state and an optional “property modifiers” argument. Here we initialize a generic Mineral, just to show the general structure:"
      ]
    },
    {
      "cell_type": "code",
      "execution_count": null,
      "metadata": {
        "id": "s7bbX4d4L5Ri"
      },
      "outputs": [],
      "source": [
        "mineral_object = burnman.Mineral(params={}, property_modifiers=[[]])"
      ]
    },
    {
      "cell_type": "markdown",
      "metadata": {},
      "source": [
        "The required keys in the parameters dictionary depends on the equation of state, described in the following section."
      ]
    },
    {
      "cell_type": "markdown",
      "metadata": {
        "id": "SrOeCuxPdEV2"
      },
      "source": [
        "### Equations of state\n",
        "\n",
        "BurnMan identifies the desired equation of state by checking the value of the string parameter \"equation_of_state\" in the parameters dictionary that is passed as an argument to the Mineral class. BurnMan currently contains implementations of the following static equations of state (i.e., equations of state with no temperature dependence):\n",
        "- \"bm2\", \"bm3\" and \"bm4\": Birch-Murnaghan (2nd, 3rd and 4th order)\n",
        "- \"mt\": Modified Tait\n",
        "- \"morse\": Morse potential\n",
        "- \"vinet\": Vinet (originally the Rydberg equation of state)\n",
        "- \"rkprime\": Reciprocal K-prime\n",
        "\n",
        "And also the following thermal equations of state:\n",
        "- \"mgd2\" and \"mgd3\": Mie-Debye-Grueneisen equation of state (second and third order expansions for the shear modulus)\n",
        "- \"slb2\" and \"slb3\": Stixrude and Lithgow-Bertelloni (2011; second and third order expansions for the shear modulus)\n",
        "- \"hp_tmt\": Thermal Modified Tait (Holland and Powell; 2011)\n",
        "- \"dks_s\": de Koker and Stixrude (2013; solids)\n",
        "- \"dks_l\": de Koker and Stixrude (2013; liquids)\n",
        "- \"cork\": Compensated Redlich-Kwong equation of state\n",
        "- \"aa\": Anderson and Ahrens (1998)\n",
        "- \"brosh_calphad\": Brosh et al. (2007)\n",
        "\n",
        "Each equation of state assumes the presence of a different set of keys in the “params” dictionary.  These keys are checked and validated on initialization. Two important parameters for most mineral objects are the chemical formula of the mineral and its molar mass, which can be calculated using the functions “dictionarize_formula” and “formula_mass”."
      ]
    },
    {
      "cell_type": "code",
      "execution_count": null,
      "metadata": {
        "colab": {
          "base_uri": "https://localhost:8080/"
        },
        "id": "UqxyfGE2Mx5R",
        "outputId": "75d86b45-f917-4cf6-e5b9-b7ae21decf5a"
      },
      "outputs": [],
      "source": [
        "from burnman.tools.chemistry import dictionarize_formula, formula_mass\n",
        "\n",
        "forsterite_formula = dictionarize_formula('Mg2SiO4')\n",
        "molar_mass = formula_mass(forsterite_formula)\n",
        "\n",
        "print(f'Formula in dictionary form: {forsterite_formula}')\n",
        "print(f'Molar mass: {molar_mass:.5f} kg')"
      ]
    },
    {
      "cell_type": "markdown",
      "metadata": {
        "id": "5DoteKURMyVn"
      },
      "source": [
        "Below, we demonstrate the creation of a forsterite object for the Stixrude and Lithgow-Bertelloni (2011) equation of state which uses a 3rd order expansion for the shear modulus (equation_of_state = 'slb3')."
      ]
    },
    {
      "cell_type": "code",
      "execution_count": null,
      "metadata": {
        "colab": {
          "base_uri": "https://localhost:8080/"
        },
        "id": "g28NM4l11C2x",
        "outputId": "63c3e5a3-078c-4217-9245-999ddd8aa822"
      },
      "outputs": [],
      "source": [
        "forsterite_params = {'name': 'Forsterite',\n",
        "                     'formula': forsterite_formula,\n",
        "                     'equation_of_state': 'slb3',\n",
        "                     'F_0': -2055403.0,\n",
        "                     'V_0': 4.3603e-05,\n",
        "                     'K_0': 1.279555e+11,\n",
        "                     'Kprime_0': 4.21796,\n",
        "                     'Debye_0': 809.1703,\n",
        "                     'grueneisen_0': 0.99282,\n",
        "                     'q_0': 2.10672,\n",
        "                     'G_0': 81.6e9,\n",
        "                     'Gprime_0': 1.46257,\n",
        "                     'eta_s_0': 2.29972,\n",
        "                     'n': sum(forsterite_formula.values()),\n",
        "                     'molar_mass': molar_mass}\n",
        "\n",
        "forsterite = burnman.Mineral(params=forsterite_params)\n",
        "print(forsterite.params)"
      ]
    },
    {
      "cell_type": "markdown",
      "metadata": {
        "id": "QOPjqSH7JLx8"
      },
      "source": [
        "### Property modifiers\n",
        "\n",
        "Thermodynamic models of minerals can include modifications to the properties predicted by the underlying equation of state. Often, this is done to approximate physical processes which were neglected during development of the equation of state.\n",
        "\n",
        "BurnMan allows users to apply modifications to the Gibbs energy $\\mathcal{G}(P, T)$ via a \"property_modifiers\" attribute. This attribute takes the form of a list of different modifiers, which are themselves each composed of a list consisting of an identifying string and a dictionary containing the required parameters. The following modifiers are currently implemented in BurnMan:\n",
        "- \"linear\": Linear in pressure and temperature (i.e. $\\Delta \\mathcal{G} = \\Delta \\mathcal{E} - T \\Delta S + P \\Delta V$)\n",
        "- \"landau\": A Landau order-disorder transition (Putnis, 1992)\n",
        "- \"landau_hp\": A Landau order-disorder transition (Holland and Powell, 2011)\n",
        "- \"bragg_williams\": A Bragg-Williams order-disorder transition\n",
        "- \"magnetic_chs\": A magnetic order-disorder transition\n",
        "\n",
        "The following code block implements the Landau transition for hematite as given in the Holland et al. (2018) database (ds6.33). "
      ]
    },
    {
      "cell_type": "code",
      "execution_count": null,
      "metadata": {
        "id": "xjKuRu9nJPH8"
      },
      "outputs": [],
      "source": [
        "# Dictionary with parameters for equation of state. \n",
        "hematite_params = {'name': 'hematite',\n",
        "                   'formula': {'Fe': 2.0, 'O': 3.0},\n",
        "                   'equation_of_state': 'hp_tmt',\n",
        "                   'H_0': -825420.0,\n",
        "                   'S_0': 87.4,\n",
        "                   'V_0': 3.027e-05,\n",
        "                   'Cp': [163.9, 0.0, -2257200.0, -657.6],\n",
        "                   'a_0': 2.79e-05,\n",
        "                   'K_0': 223000e6,\n",
        "                   'Kprime_0': 4.04,\n",
        "                   'Kdprime_0': -1.8e-11,\n",
        "                   'n': 5.0,\n",
        "                   'molar_mass': 0.1596882}\n",
        "\n",
        "# Dictionary for Landau transition which modifieds the Gibbs energy\n",
        "hematite_property_modifiers = [['landau_hp', {'P_0': 1.e5,\n",
        "                                              'T_0': 298.15,\n",
        "                                              'Tc_0': 955.0,\n",
        "                                              'S_D': 15.6,\n",
        "                                              'V_D': 0.0}]]\n",
        "\n",
        "# Initialise mineral with a property modifier\n",
        "hematite = burnman.Mineral(params=hematite_params,\n",
        "                           property_modifiers=hematite_property_modifiers)"
      ]
    },
    {
      "cell_type": "markdown",
      "metadata": {
        "id": "1oET4yW3UBbr"
      },
      "source": [
        "### The CombinedMineral class\n",
        "\n",
        "In petrology, we are often interested in phases for which we have little experimental or theoretical information. One common example is when we want to approximate the properties of an ordered phase relative to its disordered counterparts. In many cases, a reasonable procedure is to make a mechanical mixture of the known phases, such that they are the correct composition of the unknown phase, and then apply a linear correction to the Gibbs energy of the phase (i.e. $\\Delta \\mathcal{G} = \\Delta \\mathcal{E} - T \\Delta S + P \\Delta V$). In BurnMan, we do this using the CombinedMineral class. In the lines below, we create an ordered orthopyroxene with composition MgFeSi$_2$O$_6$ from a 50:50 mixture of enstatite and ferrosilite. We make this compound 6 kJ/mol more stable than the mechanical mixture."
      ]
    },
    {
      "cell_type": "code",
      "execution_count": null,
      "metadata": {
        "colab": {
          "base_uri": "https://localhost:8080/"
        },
        "id": "IHhrL83dUQcR",
        "outputId": "c63a3d9e-d120-4f63-d2ff-5082b88b967e"
      },
      "outputs": [],
      "source": [
        "from burnman import CombinedMineral\n",
        "from burnman.minerals import HP_2011_ds62\n",
        "fe_mg_orthopyroxene = CombinedMineral(name='ordered ferroenstatite',\n",
        "                                      mineral_list=[HP_2011_ds62.en(),\n",
        "                                                    HP_2011_ds62.fs()],\n",
        "                                      molar_amounts=[0.5, 0.5],\n",
        "                                      free_energy_adjustment=[-6.e3, 0., 0.])\n",
        "print(fe_mg_orthopyroxene.formula)"
      ]
    },
    {
      "cell_type": "markdown",
      "metadata": {
        "id": "WqcsiVQ-HK7e"
      },
      "source": [
        "### Implemented datasets\n",
        "\n",
        "BurnMan already includes several published mineral datasets. These can be found in the \"minerals\" subdirectory of BurnMan, and include the Stixrude and Lithgow-Bertelloni (2011) dataset, Holland et al. (2013) and Jennings et al. (2015) datasets. The script misc/table_mineral_library.py will list all minerals included for each equation of state. \n",
        "\n",
        "Mineral objects can be initialised from these datasets using commands like the following:"
      ]
    },
    {
      "cell_type": "code",
      "execution_count": null,
      "metadata": {
        "id": "mwDrq-lv1F8B"
      },
      "outputs": [],
      "source": [
        "from burnman import minerals\n",
        "\n",
        "fo_SLB = minerals.SLB_2011.forsterite()\n",
        "fo_HP = minerals.HP_2011_ds62.fo()"
      ]
    },
    {
      "cell_type": "markdown",
      "metadata": {
        "id": "MYfZFvfUPbGT"
      },
      "source": [
        "The \"()\" at the end of each call indicate that these commands initialize an object from a class. This is done so that users can create multiple distinct objects with the same material parameters but potentially different states."
      ]
    },
    {
      "cell_type": "markdown",
      "metadata": {
        "id": "GOvN2MNhH_zR"
      },
      "source": [
        "### Interrogating the properties of a Mineral object at a given pressure and temperature\n",
        "\n",
        "Once an object has been initialised, the user can set its state (pressure in Pa and temperature in K):"
      ]
    },
    {
      "cell_type": "code",
      "execution_count": null,
      "metadata": {
        "id": "Pvl7qpvAH_eQ"
      },
      "outputs": [],
      "source": [
        "fo_SLB.set_state(1.e9, 1000)"
      ]
    },
    {
      "cell_type": "markdown",
      "metadata": {
        "id": "Nt_rEKe4IUZB"
      },
      "source": [
        "The thermodynamic and seismic properties of the object at those conditions can then by returned as attributes of the object (returned in SI units):"
      ]
    },
    {
      "cell_type": "code",
      "execution_count": null,
      "metadata": {
        "colab": {
          "base_uri": "https://localhost:8080/"
        },
        "id": "VSXK5WuTIUHS",
        "outputId": "c975c11b-826e-44dc-921e-f0298714202f"
      },
      "outputs": [],
      "source": [
        "from burnman.tools.chemistry import formula_to_string\n",
        "print(f'{fo_SLB.name} (SLB2011)')\n",
        "print(f'Formula: {formula_to_string(fo_SLB.formula)}')\n",
        "print(f'Gibbs: {fo_SLB.gibbs:.3e} J/mol')\n",
        "print(f'S: {fo_SLB.molar_entropy:.3e} J/K/mol')\n",
        "print(f'V_p: {fo_SLB.v_p:.3e} m/s')"
      ]
    },
    {
      "cell_type": "markdown",
      "metadata": {
        "id": "Nlqux8UJI2tO"
      },
      "source": [
        "It is common for users to want to return properties over a range of states. BurnMan makes this easy through the \"evaluate\" method of the Material class. In the following lines, we investigate the properties of quartz as defined by Stixrude and Lithgow Bertelloni (2011):\n"
      ]
    },
    {
      "cell_type": "code",
      "execution_count": null,
      "metadata": {
        "colab": {
          "base_uri": "https://localhost:8080/",
          "height": 339
        },
        "id": "QG-B4RfrHtFE",
        "outputId": "e6ebfdeb-9c44-44a4-d08c-a229bdb6a45f"
      },
      "outputs": [],
      "source": [
        "# Necessary imports for creating the P, T arrays and plotting\n",
        "import numpy as np\n",
        "import matplotlib.pyplot as plt\n",
        "\n",
        "# Temperatures and pressures at which to evaluate properties\n",
        "temperatures = np.linspace(300., 1300., 1001)\n",
        "pressures = 1.e5*np.ones_like(temperatures)\n",
        "\n",
        "# Desired properties\n",
        "properties = ['molar_heat_capacity_p', 'v_phi']\n",
        "\n",
        "# Initialize a quartz object and print the parameters dictionary\n",
        "# and property modifiers\n",
        "qtz = minerals.SLB_2011.quartz()\n",
        "print(qtz.params)\n",
        "print(qtz.property_modifiers)\n",
        "\n",
        "# Return arrays containing the desired properties\n",
        "isobaric_heat_capacities, bulk_sound_velocities = qtz.evaluate(properties, pressures, temperatures)\n",
        "\n",
        "# Plot the properties\n",
        "fig = plt.figure(figsize=(8, 4))\n",
        "fig.suptitle('Heat capacity and bulk sound velocity across alpha->beta transition in quartz')\n",
        "ax = [fig.add_subplot(1, 2, i) for i in range(1, 3)]\n",
        "ax[0].plot(temperatures, isobaric_heat_capacities)\n",
        "ax[1].plot(temperatures, bulk_sound_velocities/1000.)\n",
        "\n",
        "for i in range(2):\n",
        "  ax[i].set_xlabel('Temperature (K)')\n",
        "ax[0].set_ylabel('Isobaric heat capacity (J/K/mol)')\n",
        "ax[1].set_ylabel('Bulk sound velocity (km/s)')\n",
        "ax[0].set_ylim(50., 150.)\n",
        "ax[1].set_ylim(1.5, 5.)\n",
        "fig.tight_layout()\n",
        "fig.subplots_adjust(top=0.88)"
      ]
    },
    {
      "cell_type": "markdown",
      "metadata": {
        "id": "OofWsf1Nf7ng"
      },
      "source": [
        "In the figure produced by the code above, one can see the effect of the alpha->beta transition in quartz (also known as the quartz inversion). This is a displacive transition from trigonal to hexagonal symmetry that can be modelled (as done here) by a Landau-type transition.\n",
        "\n",
        "To give users confidence that BurnMan is outputting accurate derivative properties, we include a tool that checks the thermodynamic self-consistency of the equation of state:"
      ]
    },
    {
      "cell_type": "code",
      "execution_count": null,
      "metadata": {
        "id": "I_TfHxWTgRlh"
      },
      "outputs": [],
      "source": [
        "from burnman.tools.eos import check_eos_consistency\n",
        "assert(check_eos_consistency(qtz, 1.e9, 1000., verbose=False))"
      ]
    },
    {
      "cell_type": "markdown",
      "metadata": {
        "id": "t_fA8gmUL73h"
      },
      "source": [
        "## SolidSolution objects\n",
        "\n",
        "The SolidSolution class in BurnMan allows users to define materials that have crystal chemical sites that can be occupied by multiple species. The species occupancies on the sites can be varied by changing the proportions of a number of ''independent'' endmembers.\n",
        "\n",
        "Currently, all the models implemented in BurnMan are of \"Bragg-Williams\" type (Bragg and Williams, 1930s). This means that the thermodynamic properties of solid solutions are uniquely defined by the *average* occupancies of species on each site (Myhill and Connolly, 2021). These models are therefore unable to accurately account for local interactions that give rise to **short-range order**, but Bragg-Williams models with multiple sites *can* provide a first-order approximation to the energetic effects of **long-range order**. From a microscopic standpoint, the distinction is an artificial one, since long-range order arises from local interactions (e.g. Bethe 1934, 1935). However, a detailed treatment of order-disorder requires either complex models (Kikuchi, 1951) or ab-initio simulations that have their own dedicated software packages (e.g. VASP).\n"
      ]
    },
    {
      "cell_type": "markdown",
      "metadata": {
        "id": "nv9Waj9VdLR0"
      },
      "source": [
        "\n",
        "### Model formalisms\n",
        "\n",
        "#### The ideal model \n",
        "\n",
        "The simplest solution model implemented in BurnMan is the ideal solution model.\n",
        "In this solution, the excess Gibbs energy of mixing is purely configurational in nature. Mathematically:\n",
        "\n",
        "$\\Delta \\mathcal{G}^{\\text{mix}} = -RT \\sum_i m_i \\sum_j p_{ij} \\ln p_{ij}$\n",
        "\n",
        "where $R$ is the gas constant (in J/K/mol), $T$ is the temperature (in K), $m_i$ is the multiplicity of site $i$ and $p_{ij}$ is the proportion of species $j$ on site $i$.\n",
        "\n",
        "The following code initializes a binary ideal solid solution model between pyrope and almandine. The solution_type argument defines the other arguments that are reuired by the model. The endmembers argument must be a list of lists containing all the endmembers of the solid solution. The first item in each inner list should contain a Mineral object corresponding to the endmember of interest. The second item should be a chemical formula. The exchange sites in this formula are denoted by square brackets, followed by the multiplicities $m_i$ (optional if $m_i = 1$). Everything not contained within an \"[...]m\" block is ignored. "
      ]
    },
    {
      "cell_type": "code",
      "execution_count": null,
      "metadata": {
        "id": "AAXHnnJ6KMtk"
      },
      "outputs": [],
      "source": [
        "from burnman import SolidSolution, minerals\n",
        "\n",
        "ideal_garnet = SolidSolution(name = 'Ideal pyrope-almandine garnet',\n",
        "                             solution_type = 'ideal',\n",
        "                             endmembers = [[minerals.HP_2011_ds62.py(),\n",
        "                                            '[Mg]3[Al]2Si3O12'],\n",
        "                                           [minerals.HP_2011_ds62.alm(),\n",
        "                                            '[Fe]3[Al]2Si3O12']],\n",
        "                             molar_fractions = [0.5, 0.5])"
      ]
    },
    {
      "cell_type": "markdown",
      "metadata": {
        "id": "PvMh4LSesHw1"
      },
      "source": [
        "Each species on each site must begin with a capital letter, but the string does not have to correspond to an element. Partial occupancies are allowed. For example, [Al0.5Fef0.5] would be valid for an endmember with both $\\text{Al}^{3+}$ and $\\text{Fe}^{3+}$ on the same site. [Vac] would be valid for a vacancy, whereas [v] would not. The molar_fractions argument in the initialization above is optional.\n",
        "\n",
        "As of BurnMan 1.1, ideality does not require that the multiplicity of each site is fixed between endmembers. This allows the implementation of Temkin-type models (Temkin, 1945), which are used to model melts. For example, here is the ideal part of the melt model proposed by Holland et al. (2018), restricted to the CMAS system (nonideality and changes in endmember energies have been ignored):"
      ]
    },
    {
      "cell_type": "markdown",
      "metadata": {
        "id": "XnU_VhnyF2tC"
      },
      "source": [
        "#### The (a)symmetric model\n",
        "\n",
        "Another solution model formalism implemented in BurnMan is the asymmetric model (Holland and Powell, 2003). This model is an extension of the regular solution model (Wohl, 1946), with the extension following van Laar (1906). \n",
        "\n",
        "The general idea is that there are interaction energies $W_{ij}$ associated with each binary in the solution model. Those binary interactions are modified by a set of $\\alpha_k$ parameters, such that:\n",
        "\n",
        "$\\Delta \\mathcal{G}^{\\text{mix}} = \\Delta \\mathcal{G}^{\\text{mix,ideal}} + \\Delta \\mathcal{G}^{\\text{mix,nonideal}}$\n",
        "\n",
        "and \n",
        "\n",
        "$\\Delta \\mathcal{G}^{\\text{mix,nonideal}} = (\\sum_l \\alpha_l p_l) (\\sum_i^{n-1} \\sum_{j=i+1}^n \\phi_i \\phi_j \\frac{2 w_{ij}}{\\alpha_i + \\alpha_j}$)\n",
        "\n",
        "where\n",
        "\n",
        "$\\phi_i = \\frac{\\alpha_i p_i}{\\sum_k \\alpha_k p_k}$\n",
        "\n",
        "$\\Delta \\mathcal{G}^{\\text{mix,ideal}}$ is caalculated using the same expressions as for the ideal model. The following code block initialises an asymmetric garnet model in the system CFMASO (taken from the Holland and Powell, 2011 dataset; ds6.2)."
      ]
    },
    {
      "cell_type": "code",
      "execution_count": null,
      "metadata": {
        "id": "mqRefxArHebY"
      },
      "outputs": [],
      "source": [
        "g2 = SolidSolution(name='asymmetric garnet (ThermoCalc ds6.2)',\n",
        "                   solution_type='asymmetric',\n",
        "                   endmembers = [[minerals.HP_2011_ds62.py(), '[Mg]3[Al]2Si3O12'],\n",
        "                                 [minerals.HP_2011_ds62.alm(), '[Fe]3[Al]2Si3O12'],\n",
        "                                 [minerals.HP_2011_ds62.gr(), '[Ca]3[Al]2Si3O12'],\n",
        "                                 [minerals.HP_2011_ds62.andr(), '[Ca]3[Fe]2Si3O12']],\n",
        "                   alphas = [1.0, 1.0, 2.7, 2.7],\n",
        "                   energy_interaction = [[2.5e3, 31.e3, 53.2e3],\n",
        "                                         [5.e3, 37.24e3],\n",
        "                                         [2.e3]])"
      ]
    },
    {
      "cell_type": "markdown",
      "metadata": {
        "id": "oN0OTPdRFvQ7"
      },
      "source": [
        "In the case that all $\\alpha_i$ are equal to each other, the asymmetric model becomes a symmetric model. BurnMan allows users to specify this type of model by setting solution_type='symmetric'. In this case, the alphas argument does not need to be specified."
      ]
    },
    {
      "cell_type": "markdown",
      "metadata": {
        "id": "ZSZkSBzhInZz"
      },
      "source": [
        "#### The subregular model\n",
        "\n",
        "BurnMan also contains an implementation of the subregular model (Helffrich and Wood, 1989). In this model, the excess nonideal Gibbs energy is expressed as a cubic polynomial in endmember proportions:\n",
        "\n",
        "$G^* = p_i G^{\\text{mbr}}_i + p_i p_j W_{ij}^{\\text{binary}} (1 + p_j - p_i)/2 + p_i p_j p_k W_{ijk}^{\\text{ternary}}$\n",
        "\n",
        "where the binary terms must be equal to zero when $i=j$ and the ternary terms can only be non-zero for $i<j<k$.\n"
      ]
    },
    {
      "cell_type": "code",
      "execution_count": null,
      "metadata": {
        "id": "PukMbTzlGl1_"
      },
      "outputs": [],
      "source": [
        "# Parameters from Ganguly et al. (1996), converted to SI units\n",
        "Wh_1bar = [[[2117., 695.], [9834., 21627.], [12083., 12083.]],\n",
        "           [[6773., 873.], [539., 539.]],\n",
        "           [[0., 0.]]]\n",
        "Wv = [[[0.07e-5, 0.], [0.058e-5, 0.012e-5], [0.04e-5, 0.03e-5]],\n",
        "      [[0.03e-5, 0.], [0.04e-5, 0.01e-5]],\n",
        "      [[0., 0.]]]\n",
        "Ws = [[[0., 0.], [5.78, 5.78], [7.67, 7.67]],\n",
        "      [[1.69, 1.69], [0., 0.]],\n",
        "      [[0., 0.]]]\n",
        "\n",
        "# We now convert from 1 bar enthalpy, entropy and volume (1 cation basis)\n",
        "# to energy, entropy and volume (3 cation basis)\n",
        "mult = lambda x, n: [[[v*n for v in i] for i in j] for j in x]\n",
        "add = lambda x, y: [[[x[i][j][k] + y[i][j][k] for k in range(len(x[i][j]))]\n",
        "                     for j in range(len(x[i]))] for i in range(len(x))]\n",
        "\n",
        "energy_interaction = add(mult(Wh_1bar, 3.), mult(Wv, -3.e5))\n",
        "volume_interaction = mult(Wv, 3.)\n",
        "entropy_interaction = mult(Ws, 3.)\n",
        "\n",
        "g3 = SolidSolution(name='CFMnMAS garnet (Ganguly et al., 1996)',\n",
        "                   solution_type='subregular',\n",
        "                   endmembers=[[minerals.HP_2011_ds62.py(), '[Mg]3[Al]2Si3O12'],\n",
        "                               [minerals.HP_2011_ds62.alm(), '[Fe]3[Al]2Si3O12'],\n",
        "                               [minerals.HP_2011_ds62.gr(), '[Ca]3[Al]2Si3O12'],\n",
        "                               [minerals.HP_2011_ds62.spss(), '[Mn]3[Al]2Si3O12']],\n",
        "                   energy_interaction=energy_interaction,\n",
        "                   volume_interaction=volume_interaction,\n",
        "                   entropy_interaction=entropy_interaction,\n",
        "                   energy_ternary_terms = [[0, 1, 2, 0.e3]],\n",
        "                   volume_ternary_terms = [[0, 1, 2, 0.e-6]],\n",
        "                   entropy_ternary_terms = [[0, 1, 2, 0.]])"
      ]
    },
    {
      "cell_type": "markdown",
      "metadata": {},
      "source": [
        "For the model above, the ternary terms are all equal to zero, but in general, the structure of the ternary_terms input is a list of lists, where the inner list corresponds to the three endmember indices $i<j<k$ followed by the value of the interaction term."
      ]
    },
    {
      "cell_type": "markdown",
      "metadata": {
        "id": "DHdXRd6SMNTg"
      },
      "source": [
        "### Implemented datasets\n",
        "\n",
        "As for the endmembers, BurnMan already contains solution models from multiple datasets. One of these is the Stixrude and Lithgow-Bertelloni (2011) dataset. In the code-block below, we initialize an object using the three-endmember (FMAS) bridgmanite solution from that publication."
      ]
    },
    {
      "cell_type": "code",
      "execution_count": null,
      "metadata": {
        "colab": {
          "base_uri": "https://localhost:8080/"
        },
        "id": "p8zxhtHmMMsc",
        "outputId": "51a12a09-2900-4da3-c3f9-096ade753018"
      },
      "outputs": [],
      "source": [
        "bdg = minerals.SLB_2011.mg_fe_bridgmanite()\n",
        "bdg.endmembers"
      ]
    },
    {
      "cell_type": "markdown",
      "metadata": {
        "id": "5GOR-BEuMaWL"
      },
      "source": [
        "### Interrogating the properties of a SolidSolution object at a given composition, pressure and temperature\n",
        "\n",
        "Unlike Minerals, SolidSolutions can vary in composition. Before interrogating properties, it is therefore necessary to set both the state (using the method \"set_state\") and the composition (using the method \"set_composition\").  "
      ]
    },
    {
      "cell_type": "code",
      "execution_count": null,
      "metadata": {
        "colab": {
          "base_uri": "https://localhost:8080/"
        },
        "id": "SsvoJmM1GswQ",
        "outputId": "151a8f89-6dbe-4dbe-fa73-95e97954f8f1"
      },
      "outputs": [],
      "source": [
        "bdg.set_composition([0.8, 0.1, 0.1])\n",
        "bdg.set_state(30.e9, 2000.)\n",
        "\n",
        "print(f'Bridgmanite composition: {dict(bdg.formula)}')\n",
        "print(f'Bridgmanite volume: {bdg.V:.3e} m')\n",
        "print(f'Bridgmanite endmember partial Gibbs energies:')\n",
        "for pG in bdg.partial_gibbs:\n",
        "    print(f'   {pG/1e3:.3e} kJ/mol')"
      ]
    },
    {
      "cell_type": "markdown",
      "metadata": {},
      "source": [
        "The evaluate method can be used to output properties of solid solutions at constant composition:"
      ]
    },
    {
      "cell_type": "code",
      "execution_count": null,
      "metadata": {
        "colab": {
          "base_uri": "https://localhost:8080/",
          "height": 297
        },
        "id": "nyy6VTXkMeZF",
        "outputId": "b9b83b72-89ce-429e-cf98-c0132b55522d"
      },
      "outputs": [],
      "source": [
        "pressures = np.linspace(30.e9, 130.e9, 101)\n",
        "temperatures = 2000.*np.ones_like(pressures)\n",
        "densities, p_wave_velocities = bdg.evaluate(['rho', 'v_p'], pressures, temperatures)\n",
        "\n",
        "# The following lines do the plotting\n",
        "fig = plt.figure(figsize=(8, 4))\n",
        "ax = [fig.add_subplot(1, 2, i) for i in range(1, 3)]\n",
        "\n",
        "ax[0].plot(pressures/1.e9, densities)\n",
        "ax[1].plot(pressures/1.e9, p_wave_velocities/1000.)\n",
        "\n",
        "for i in range(2):\n",
        "  ax[i].set_xlabel('Pressure (GPa)')\n",
        "ax[0].set_ylabel('Densities (kg/m^3)')\n",
        "ax[1].set_ylabel('P wave velocity (km/s)')\n",
        "fig.tight_layout()\n"
      ]
    },
    {
      "cell_type": "markdown",
      "metadata": {},
      "source": [
        "The \"set_composition\" method must be used every time the SolidSolution composition is to be changed:"
      ]
    },
    {
      "cell_type": "code",
      "execution_count": null,
      "metadata": {
        "colab": {
          "base_uri": "https://localhost:8080/",
          "height": 297
        },
        "id": "5zjtpwxqISCb",
        "outputId": "5548dee7-d6eb-46da-a8cc-9637eec97c0b"
      },
      "outputs": [],
      "source": [
        "import numpy as np\n",
        "import matplotlib.pyplot as plt\n",
        "\n",
        "comp = np.linspace(1e-5, 1.-1e-5, 101)\n",
        "\n",
        "bdg_excess_gibbs_400 = np.empty_like(comp)\n",
        "bdg_excess_gibbs_800 = np.empty_like(comp)\n",
        "bdg_excess_gibbs_1200 = np.empty_like(comp)\n",
        "\n",
        "bdg_activities_400 = np.empty((101, 3))\n",
        "bdg_activities_800 = np.empty((101, 3))\n",
        "bdg_activities_1200 = np.empty((101, 3))\n",
        "\n",
        "pressure = 1.e9\n",
        "for i, c in enumerate(comp):\n",
        "    molar_fractions = [1.0 - c, c, 0.]\n",
        "    bdg.set_composition(molar_fractions)\n",
        "    bdg.set_state(pressure, 400.)\n",
        "    bdg_excess_gibbs_400[i] = bdg.excess_gibbs\n",
        "    bdg_activities_400[i] = bdg.activities\n",
        "    bdg.set_state(pressure, 800.)\n",
        "    bdg_excess_gibbs_800[i] = bdg.excess_gibbs\n",
        "    bdg_activities_800[i] = bdg.activities\n",
        "    bdg.set_state(pressure, 1200.)\n",
        "    bdg_excess_gibbs_1200[i] = bdg.excess_gibbs\n",
        "    bdg_activities_1200[i] = bdg.activities\n",
        "\n",
        "fig = plt.figure(figsize=(8, 4))\n",
        "ax = [fig.add_subplot(1, 2, i) for i in range(1, 3)]\n",
        "ax[0].plot(comp, bdg_excess_gibbs_400/1000., 'r-', linewidth=1., label='400 K')\n",
        "ax[0].plot(comp, bdg_excess_gibbs_800/1000., 'g-', linewidth=1., label='800 K')\n",
        "ax[0].plot(comp, bdg_excess_gibbs_1200/1000., 'b-', linewidth=1., label='1200 K')\n",
        "\n",
        "ax[1].plot(comp, bdg_activities_1200[:,0], 'b-', linewidth=1., label='MgSiO$_3$')\n",
        "ax[1].plot(comp, bdg_activities_1200[:,1], 'b:', linewidth=1., label='FeSiO$_3$')\n",
        "\n",
        "\n",
        "ax[0].set_title(\"MgSiO$_3$-FeSiO$_3$ bridgmanite join\")\n",
        "ax[0].set_ylabel(\"Excess gibbs free energy of solution (kJ/mol)\")\n",
        "ax[1].set_ylabel(\"Endmember activities\")\n",
        "\n",
        "for i in range(2):\n",
        "  ax[i].set_xlabel(\"Molar FeSiO$_3$ fraction\")\n",
        "  ax[i].legend(loc='lower left')\n",
        "\n",
        "fig.tight_layout()\n",
        "plt.show()"
      ]
    },
    {
      "cell_type": "markdown",
      "metadata": {
        "id": "I71WgY1zM3X7"
      },
      "source": [
        "## Composite objects"
      ]
    },
    {
      "cell_type": "markdown",
      "metadata": {
        "id": "3DBks03ZqS6t"
      },
      "source": [
        "The third major class derived from Material is the Composite class. This class is designed to represent collections of other Materials, which are typically objects of type Mineral and SolidSolution, but can be any Material, including other Composites. A list of Materials is passed to the argument \"phases\" on initialization of a Composite object.\n",
        "\n",
        "The properties of Composite materials can be interrogated in a similar manner to SolidSolutions. To set the molar fractions of the material, either pass an array of fractions as the argument \"fractions\" on initialization, or use the \"set_fractions\" method at any time after initialization. As before, \"set_state\" is used to set the pressure and temperature of the object."
      ]
    },
    {
      "cell_type": "code",
      "execution_count": null,
      "metadata": {
        "colab": {
          "base_uri": "https://localhost:8080/",
          "height": 297
        },
        "id": "wDFTLdIVMvHF",
        "outputId": "8e5fdd88-bdb8-40b9-d0a7-df8b0bd9bc28"
      },
      "outputs": [],
      "source": [
        "from burnman import Composite\n",
        "\n",
        "bdg = minerals.SLB_2011.mg_fe_bridgmanite()\n",
        "fper = minerals.SLB_2011.ferropericlase()\n",
        "bdg.set_composition([0.9, 0.1, 0.0])\n",
        "fper.set_composition([0.8, 0.2])\n",
        "\n",
        "assemblage = Composite(phases=[bdg, fper],\n",
        "                       fractions=[0.5, 0.5],\n",
        "                       fraction_type='molar',\n",
        "                       name='rock')\n",
        "\n",
        "pressure = 30.e9\n",
        "temperature = 2000.\n",
        "assemblage.set_fractions([0.5, 0.5])\n",
        "assemblage.set_state(pressure, temperature)\n",
        "\n",
        "print(f'Assemblage density at {pressure/1.e9} GPa and {temperature} K: {assemblage.density:.1f} kg/m^3')"
      ]
    },
    {
      "cell_type": "markdown",
      "metadata": {},
      "source": [
        "As for the SolidSolution class, the properties of Composites at fixed phase fraction and phase compositions can be obtined using the evaluate method of the class. In the following code block, we evaluate the seismic properties of our 50:50 molar mixture of bridgmanite and ferropericlase from 30 to 130 GPa at 2000 K.\n",
        "\n",
        "In this code block, we also demonstrate the ability for BurnMan to switch between different schemes for averaging seismic properties. Available schemes are \"Voigt\", \"Reuss\", \"VoigtReussHill\" (the standard scheme, which averages the Voigt and Reuss averages), \"HashinShtrikmanLower\" and \"HashinShtrikmanUpper\". The figure shows the difference between the Reuss (lower) and Voigt (upper) bounds on the P-wave and S-wave velocities."
      ]
    },
    {
      "cell_type": "code",
      "execution_count": null,
      "metadata": {},
      "outputs": [],
      "source": [
        "pressures = np.linspace(30.e9, 130.e9, 101)\n",
        "temperatures = np.ones(101)*2000.\n",
        "\n",
        "assemblage.set_averaging_scheme('VoigtReussHill')\n",
        "densities, Vp_VRH, Vs_VRH = assemblage.evaluate(['rho', 'v_p', 'v_s'],\n",
        "                                                pressures, temperatures)\n",
        "\n",
        "assemblage.set_averaging_scheme('Reuss')\n",
        "Vp_R, Vs_R = assemblage.evaluate(['v_p', 'v_s'], pressures, temperatures)\n",
        "\n",
        "assemblage.set_averaging_scheme('Voigt')\n",
        "Vp_V, Vs_V = assemblage.evaluate(['v_p', 'v_s'], pressures, temperatures)\n",
        "\n",
        "\n",
        "fig = plt.figure(figsize=(8, 4))\n",
        "ax = [fig.add_subplot(1, 2, i) for i in range(1, 3)]\n",
        "ax[0].plot(pressures/1.e9, densities)\n",
        "ax[1].fill_between(pressures/1.e9, Vp_R/1.e3, Vp_V/1.e3, alpha=0.2)\n",
        "ax[1].fill_between(pressures/1.e9, Vs_R/1.e3, Vs_V/1.e3, alpha=0.2)\n",
        "ax[1].plot(pressures/1.e9, Vs_R/1.e3, color='orange', linewidth=0.5)\n",
        "ax[1].plot(pressures/1.e9, Vs_V/1.e3, color='orange', linewidth=0.5, label='$V_S$')\n",
        "ax[1].plot(pressures/1.e9, Vp_R/1.e3, color='blue', linewidth=0.5)\n",
        "ax[1].plot(pressures/1.e9, Vp_V/1.e3, color='blue', linewidth=0.5, label='$V_P$')\n",
        "\n",
        "for i in range(2):\n",
        "  ax[i].set_xlabel('Pressure (GPa)')\n",
        "\n",
        "ax[0].set_ylabel('Density (kg/m$3$)')\n",
        "ax[1].set_ylabel('Velocities (km/s)')\n",
        "\n",
        "fig.tight_layout()\n",
        "plt.show()"
      ]
    },
    {
      "cell_type": "markdown",
      "metadata": {},
      "source": [
        "In the next part of the tutorial, we will look at BurnMan's Composition class."
      ]
    }
  ],
  "metadata": {
    "colab": {
      "collapsed_sections": [],
      "name": "BurnMan_1.0_manuscript.ipynb",
      "provenance": []
    },
    "interpreter": {
      "hash": "d0e8ff0504fa29d441371c1f42f91c694e01f5e6e44698edccbd59f7213ffa15"
    },
    "kernelspec": {
      "display_name": "Python 3.9.2 64-bit ('3.9.2': pyenv)",
      "name": "python3"
    },
    "language_info": {
      "codemirror_mode": {
        "name": "ipython",
        "version": 3
      },
      "file_extension": ".py",
      "mimetype": "text/x-python",
      "name": "python",
      "nbconvert_exporter": "python",
      "pygments_lexer": "ipython3",
      "version": "3.9.2"
    }
  },
  "nbformat": 4,
  "nbformat_minor": 0
}
