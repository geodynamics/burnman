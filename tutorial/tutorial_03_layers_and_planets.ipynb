{
  "cells": [
    {
      "cell_type": "markdown",
      "metadata": {
        "id": "C30Xe311ePd3"
      },
      "source": [
        "<h1>The BurnMan Tutorial</h1>\n",
        "<h2>Part 3: Layers and Planets</h2>\n",
        "This file is part of BurnMan - a thermoelastic and thermodynamic toolkit\n",
        "for the Earth and Planetary Sciences\n",
        "\n",
        "Copyright (C) 2012 - 2021 by the BurnMan team,\n",
        "released under the GNU GPL v2 or later.\n"
      ]
    },
    {
      "cell_type": "markdown",
      "metadata": {
        "id": "13QqqnL6UzBk"
      },
      "source": [
        "# Introduction\n",
        "\n",
        "This ipython notebook is the third in a series designed to introduce new users to the code structure and functionalities present in BurnMan.\n",
        "\n",
        "## Demonstrates\n",
        "\n",
        "1. burnman.Layer\n",
        "2. burnman.Planet\n",
        "\n",
        "\n",
        "Everything in BurnMan and in this tutorial is defined in SI units. "
      ]
    },
    {
      "cell_type": "markdown",
      "metadata": {
        "id": "eFXuzpvW0rm2"
      },
      "source": [
        "## Importing BurnMan\n",
        "\n",
        "In the first part of this tutorial, we decided whether to install the version of BurnMan associated with the tutorial or use the local version. If you chose to install globally, or if you want to use a previously installed version, change the \"use_installed\" variable below to \"True\"."
      ]
    },
    {
      "cell_type": "code",
      "execution_count": null,
      "metadata": {},
      "outputs": [],
      "source": [
        "use_installed = False\n",
        "\n",
        "if not use_installed:\n",
        "    import os\n",
        "    import sys\n",
        "    if not os.path.exists('burnman') and os.path.exists('../../burnman'):\n",
        "        sys.path.insert(1, os.path.abspath('../../'))\n",
        "\n",
        "import burnman"
      ]
    },
    {
      "cell_type": "markdown",
      "metadata": {
        "id": "90v31CZNNw-m"
      },
      "source": [
        "# Building a planet\n",
        "\n",
        "Planets are, to a good first approximation, layered like an onion. They typically have a core, a mantle and a crust, stratified according to density. Because temperature and pressure are both strongly correlated with depth, major phase transitions are (again, to first order) reasonably treated as being continuous and horizontal.\n",
        "\n",
        "On Earth, these approximations have led to 1D models of properties, such as PREM (Dziewonski and Anderson, 1981) and AK135 (Kennett, Engdahl and Buland, 1995). These models can be used as a starting point for studies investigating the possible composition and temperature of Earth's deep interior.\n",
        "\n",
        "On other planets, we do not yet have data anywhere near as good as for Earth, and so interior structure is less well-known. What we do have is gravity at the surface, mass of the planet, and moment of inertia. So the question is then, what might those things tell us about interior mineralogy?\n",
        "\n",
        "BurnMan includes Layer and Planet classes to help investigate these questions."
      ]
    },
    {
      "cell_type": "markdown",
      "metadata": {
        "id": "4zb3O3XVECmV"
      },
      "source": [
        "## The Layer class\n",
        "\n",
        "The Layer class in BurnMan is designed to represent a spherical shell of a planet. That shell is made of a BurnMan Material object. The user can specify how the pressure and temperature evolve within the Layer.\n",
        "\n",
        "The following code block creates a lower_mantle layer of mg_bridgmanite and periclase in 80:20 molar proportions, and assigns an adiabatic profile with a temperature of 1900 K at the top of the layer. The pressure is set to be self-consistent; i.e. the gravity and pressure are adjusted to ensure that pressure is hydrostatic."
      ]
    },
    {
      "cell_type": "code",
      "execution_count": null,
      "metadata": {
        "id": "an6ijF2GNzS1"
      },
      "outputs": [],
      "source": [
        "import numpy as np\n",
        "import matplotlib.pyplot as plt\n",
        "from burnman import Mineral, PerplexMaterial, Composite, Layer, Planet\n",
        "from burnman import minerals\n",
        "\n",
        "\n",
        "depths = np.linspace(2890e3, 670e3, 20)\n",
        "rock = Composite([minerals.SLB_2011.mg_bridgmanite(),\n",
        "                  minerals.SLB_2011.periclase()],\n",
        "                 [0.8, 0.2])\n",
        "\n",
        "lower_mantle = Layer(name='Lower Mantle', radii=6371.e3-depths)\n",
        "lower_mantle.set_material(rock)    \n",
        "lower_mantle.set_temperature_mode(temperature_mode='adiabatic',\n",
        "                                  temperature_top=1900.)\n",
        "lower_mantle.set_pressure_mode(pressure_mode='self-consistent',\n",
        "                               pressure_top=23.8e9,\n",
        "                               gravity_bottom=10.7)\n",
        "\n",
        "# The \"make\" method does the calculations to make the pressure and gravity self-consistent.\n",
        "lower_mantle.make()\n",
        "\n",
        "fig = plt.figure(figsize=(12, 4))\n",
        "ax = [fig.add_subplot(1, 3, i) for i in range(1, 4)]\n",
        "ax[0].plot(lower_mantle.pressure/1.e9, 6371.-lower_mantle.radii/1.e3)\n",
        "ax[1].plot(lower_mantle.temperature, 6371.-lower_mantle.radii/1.e3)\n",
        "ax[2].plot(lower_mantle.gravity, 6371.-lower_mantle.radii/1.e3)\n",
        "for i in range(3):\n",
        "    ax[i].set_ylim(6371.-lower_mantle.radii[0]/1.e3,\n",
        "                   6371.-lower_mantle.radii[-1]/1.e3)\n",
        "    ax[i].set_ylabel('Depth (km)')\n",
        "\n",
        "ax[0].set_xlabel('Pressure (GPa)')\n",
        "ax[1].set_xlabel('Temperature (K)')\n",
        "ax[2].set_xlabel('Gravity (m/s$^2$)')\n",
        "\n",
        "fig.set_tight_layout(True)"
      ]
    },
    {
      "cell_type": "markdown",
      "metadata": {
        "id": "5TXYk1tvEIOs"
      },
      "source": [
        "## The Planet class\n",
        "\n",
        "In a 1D Planet, the pressure, gravity, temperature and temperature gradient at the interfaces between layers must be continuous. In BurnMan, it is possible to collect layers together into a Planet, and have the \"make\" method of Planet work out how to ensure continuity (at least for pressure, gravity and temperature; for the sake of flexibility, temperature gradient is allowed to be discontinuous).\n",
        "\n",
        "In the following example, we build Planet Zog, a planet similar to Earth but a little simpler in mineralogical makeup. First, we create an adiabatic inner core. The inner core probably isn't adiabatic, but this is largely unimportant for the innermost layer."
      ]
    },
    {
      "cell_type": "code",
      "execution_count": null,
      "metadata": {},
      "outputs": [],
      "source": [
        "from burnman import Composition\n",
        "from burnman.tools.chemistry import formula_mass\n",
        "\n",
        "# Compositions from midpoints of Hirose et al. (2021), ignoring carbon and hydrogen\n",
        "inner_core_composition = Composition({'Fe': 94.4, 'Ni': 5., 'Si': 0.55, 'O': 0.05}, 'weight')\n",
        "outer_core_composition = Composition({'Fe': 90., 'Ni': 5., 'Si': 2., 'O': 3.}, 'weight')\n",
        "\n",
        "\n",
        "for c in [inner_core_composition, outer_core_composition]:\n",
        "    c.renormalize('atomic', 'total', 1.)\n",
        "\n",
        "inner_core_elemental_composition = dict(inner_core_composition.atomic_composition)\n",
        "outer_core_elemental_composition = dict(outer_core_composition.atomic_composition)\n",
        "inner_core_molar_mass = formula_mass(inner_core_elemental_composition)\n",
        "outer_core_molar_mass = formula_mass(outer_core_elemental_composition)"
      ]
    },
    {
      "cell_type": "code",
      "execution_count": null,
      "metadata": {
        "id": "tvFtC19nNLYE"
      },
      "outputs": [],
      "source": [
        "icb_radius = 1220.e3\n",
        "inner_core = Layer('inner core', radii=np.linspace(0., icb_radius, 21))\n",
        "\n",
        "hcp_iron = minerals.SE_2015.hcp_iron()\n",
        "params = hcp_iron.params\n",
        "\n",
        "params['name'] = 'modified solid iron'\n",
        "params['formula'] = inner_core_elemental_composition\n",
        "params['molar_mass'] = inner_core_molar_mass\n",
        "delta_V = 2.0e-7\n",
        "\n",
        "inner_core_material = Mineral(params=params,\n",
        "                              property_modifiers=[['linear',\n",
        "                                                   {'delta_E': 0.,\n",
        "                                                    'delta_S': 0.,\n",
        "                                                    'delta_V': delta_V}]])\n",
        "\n",
        "# check that the new inner core material does what we expect:\n",
        "hcp_iron.set_state(200.e9, 4000.)\n",
        "inner_core_material.set_state(200.e9, 4000.)\n",
        "assert np.abs(delta_V - (inner_core_material.V - hcp_iron.V)) < 1.e-12\n",
        "\n",
        "inner_core.set_material(inner_core_material)\n",
        "\n",
        "inner_core.set_temperature_mode('adiabatic')"
      ]
    },
    {
      "cell_type": "markdown",
      "metadata": {},
      "source": [
        "Now, we create an adiabatic outer core."
      ]
    },
    {
      "cell_type": "code",
      "execution_count": null,
      "metadata": {
        "id": "7M0LAeasNO38"
      },
      "outputs": [],
      "source": [
        "cmb_radius = 3480.e3\n",
        "outer_core = Layer('outer core', radii=np.linspace(icb_radius, cmb_radius, 21))\n",
        "\n",
        "liq_iron = minerals.SE_2015.liquid_iron()\n",
        "params = liq_iron.params\n",
        "\n",
        "params['name'] = 'modified liquid iron'\n",
        "params['formula'] = outer_core_elemental_composition\n",
        "params['molar_mass'] = outer_core_molar_mass\n",
        "delta_V = -2.3e-7\n",
        "outer_core_material = Mineral(params=params,\n",
        "                              property_modifiers=[['linear',\n",
        "                                                   {'delta_E': 0.,\n",
        "                                                    'delta_S': 0.,\n",
        "                                                    'delta_V': delta_V}]])\n",
        "\n",
        "# check that the new inner core material does what we expect:\n",
        "liq_iron.set_state(200.e9, 4000.)\n",
        "outer_core_material.set_state(200.e9, 4000.)\n",
        "assert np.abs(delta_V - (outer_core_material.V - liq_iron.V)) < 1.e-12\n",
        "\n",
        "outer_core.set_material(outer_core_material)\n",
        "\n",
        "outer_core.set_temperature_mode('adiabatic')"
      ]
    },
    {
      "cell_type": "markdown",
      "metadata": {},
      "source": [
        "Next, we download a PerpleX input table that contains the material properties of pyrolite. We'll use this for the convecting mantle layer."
      ]
    },
    {
      "cell_type": "code",
      "execution_count": null,
      "metadata": {
        "colab": {
          "base_uri": "https://localhost:8080/"
        },
        "id": "HJSEp1ueGrmZ",
        "outputId": "a98f8f0e-91a7-4fb2-d08c-fdd7857dc61a"
      },
      "outputs": [],
      "source": [
        "import os.path\n",
        "import urllib.request\n",
        "\n",
        "fname = '../tutorial/data/pyrolite_perplex_table.dat'\n",
        "if not os.path.isfile(fname):\n",
        "    print('Retrieving PerpleX table from web.')\n",
        "    urllib.request.urlretrieve(\"https://raw.githubusercontent.com/\"\n",
        "                               \"bobmyhill/bobmyhill.github.io/master/\"\n",
        "                               \"files/pyrolite_perplex_table.dat\",\n",
        "                               fname)\n",
        "\n",
        "print('Loading PerpleX table...')\n",
        "pyrolite = PerplexMaterial(fname, name='pyrolite')\n",
        "os.remove(fname)\n",
        "print('Table loaded successfully, file deleted')"
      ]
    },
    {
      "cell_type": "markdown",
      "metadata": {},
      "source": [
        "Now, we assume that there is a single mantle layer that is convecting. We apply a perturbed adiabatic temperature profile."
      ]
    },
    {
      "cell_type": "code",
      "execution_count": null,
      "metadata": {
        "id": "QHeMM3QfNSy9"
      },
      "outputs": [],
      "source": [
        "from burnman import BoundaryLayerPerturbation\n",
        "\n",
        "lab_radius = 6171.e3 # 200 km thick lithosphere\n",
        "lab_temperature = 1550.\n",
        "\n",
        "convecting_mantle_radii = np.linspace(cmb_radius, lab_radius, 101)\n",
        "convecting_mantle = Layer('convecting mantle', radii=convecting_mantle_radii)\n",
        "convecting_mantle.set_material(pyrolite)\n",
        "\n",
        "# Here we add a thermal boundary layer perturbation, assuming that the\n",
        "# lower mantle has a Rayleigh number of 1.e7, and that the basal thermal\n",
        "# boundary layer has a temperature jump of 840 K and the top\n",
        "# boundary layer has a temperature jump of 60 K.\n",
        "tbl_perturbation = BoundaryLayerPerturbation(radius_bottom=cmb_radius,\n",
        "                                             radius_top=lab_radius,\n",
        "                                             rayleigh_number=1.e7,\n",
        "                                             temperature_change=900.,\n",
        "                                             boundary_layer_ratio=60./900.)\n",
        "\n",
        "# Onto this perturbation, we add a linear superadiabaticity term according\n",
        "# to Anderson (he settled on 200 K over the lower mantle)\n",
        "dT_superadiabatic = 300.*(convecting_mantle_radii - convecting_mantle_radii[-1])/(convecting_mantle_radii[0] - convecting_mantle_radii[-1])\n",
        "\n",
        "convecting_mantle_tbl = (tbl_perturbation.temperature(convecting_mantle_radii)\n",
        "                         + dT_superadiabatic)\n",
        "\n",
        "convecting_mantle.set_temperature_mode('perturbed-adiabatic',\n",
        "                                       temperatures=convecting_mantle_tbl)"
      ]
    },
    {
      "cell_type": "markdown",
      "metadata": {
        "id": "U0XIIgGqNWGm"
      },
      "source": [
        "And the lithosphere has a user-defined conductive gradient."
      ]
    },
    {
      "cell_type": "code",
      "execution_count": null,
      "metadata": {
        "id": "WRF8ZTlbNWrD"
      },
      "outputs": [],
      "source": [
        "moho_radius = 6341.e3\n",
        "moho_temperature = 620.\n",
        "\n",
        "dunite = minerals.SLB_2011.mg_fe_olivine(molar_fractions=[0.92, 0.08])\n",
        "lithospheric_mantle = Layer('lithospheric mantle',\n",
        "                            radii=np.linspace(lab_radius, moho_radius, 31))\n",
        "lithospheric_mantle.set_material(dunite)\n",
        "lithospheric_mantle.set_temperature_mode('user-defined',\n",
        "                                         np.linspace(lab_temperature,\n",
        "                                                     moho_temperature, 31))"
      ]
    },
    {
      "cell_type": "markdown",
      "metadata": {
        "id": "nUw_K1ogNeND"
      },
      "source": [
        "Finally, we assume the crust has the density of andesine ~ 40% anorthite"
      ]
    },
    {
      "cell_type": "code",
      "execution_count": null,
      "metadata": {
        "id": "QYaNpJgFNbRC"
      },
      "outputs": [],
      "source": [
        "planet_radius = 6371.e3\n",
        "surface_temperature = 300.\n",
        "andesine = minerals.SLB_2011.plagioclase(molar_fractions=[0.4, 0.6])\n",
        "crust = Layer('crust', radii=np.linspace(moho_radius, planet_radius, 11))\n",
        "crust.set_material(andesine)\n",
        "crust.set_temperature_mode('user-defined',\n",
        "                           np.linspace(moho_temperature,\n",
        "                                       surface_temperature, 11))"
      ]
    },
    {
      "cell_type": "markdown",
      "metadata": {},
      "source": [
        "Everything is ready! Let's make our planet from its consistuent layers."
      ]
    },
    {
      "cell_type": "code",
      "execution_count": null,
      "metadata": {
        "colab": {
          "base_uri": "https://localhost:8080/"
        },
        "id": "1FF-ZnQmNkbi",
        "outputId": "3d33fbf5-5eff-43cb-c0be-a14f52449947"
      },
      "outputs": [],
      "source": [
        "planet_zog = Planet('Planet Zog',\n",
        "                    [inner_core, outer_core,\n",
        "                     convecting_mantle, lithospheric_mantle,\n",
        "                     crust], verbose=True)\n",
        "planet_zog.make()"
      ]
    },
    {
      "cell_type": "markdown",
      "metadata": {
        "id": "iLkMUcWMNrRL"
      },
      "source": [
        "Now we output the mass of the planet and moment of inertia and the mass of the individual layers:"
      ]
    },
    {
      "cell_type": "code",
      "execution_count": null,
      "metadata": {
        "colab": {
          "base_uri": "https://localhost:8080/"
        },
        "id": "igVRGOyTEKvr",
        "outputId": "433683b5-dc1a-469d-94b8-d225afe20588"
      },
      "outputs": [],
      "source": [
        "earth_mass = 5.972e24\n",
        "earth_moment_of_inertia_factor = 0.3307\n",
        "\n",
        "print(f'mass = {planet_zog.mass:.3e} (Earth = {earth_mass:.3e})')\n",
        "print(f'moment of inertia factor= {planet_zog.moment_of_inertia_factor:.4f} '\n",
        "      f'(Earth = {earth_moment_of_inertia_factor:.4f})')\n",
        "\n",
        "print('Layer mass fractions:')\n",
        "for layer in planet_zog.layers:\n",
        "    print(f'{layer.name}: {layer.mass / planet_zog.mass:.3f}')"
      ]
    },
    {
      "cell_type": "markdown",
      "metadata": {},
      "source": [
        "Let's compare the properties of this planet to PREM"
      ]
    },
    {
      "cell_type": "code",
      "execution_count": null,
      "metadata": {
        "colab": {
          "base_uri": "https://localhost:8080/"
        },
        "id": "4YiyOYkDHuG0",
        "outputId": "ae4e8d7f-36f5-4ea6-f757-afef51696b89"
      },
      "outputs": [],
      "source": [
        "import warnings\n",
        "prem = burnman.seismic.PREM()\n",
        "premdepth = prem.internal_depth_list()\n",
        "premradii = 6371.e3 - premdepth\n",
        "\n",
        "with warnings.catch_warnings(record=True) as w:\n",
        "    eval = prem.evaluate(['density', 'pressure', 'gravity', 'v_s', 'v_p'])\n",
        "    premdensity, prempressure, premgravity, premvs, premvp = eval\n",
        "    print(w[-1].message)"
      ]
    },
    {
      "cell_type": "markdown",
      "metadata": {},
      "source": [
        "Also create the Anzellini et al. (2013) geotherm:"
      ]
    },
    {
      "cell_type": "code",
      "execution_count": null,
      "metadata": {},
      "outputs": [],
      "source": [
        "from scipy.interpolate import interp1d\n",
        "d = np.loadtxt('../tutorial/data/Anzellini_2013_geotherm.dat')\n",
        "Anz_interp = interp1d(d[:,0]*1.e9, d[:,1])"
      ]
    },
    {
      "cell_type": "markdown",
      "metadata": {},
      "source": [
        "Finally, plot the 1D structure of the planet"
      ]
    },
    {
      "cell_type": "code",
      "execution_count": null,
      "metadata": {
        "colab": {
          "base_uri": "https://localhost:8080/",
          "height": 369
        },
        "id": "3B16hh2ic9cM",
        "outputId": "21d29602-0186-4aa4-d5bb-bed006b608ee"
      },
      "outputs": [],
      "source": [
        "fig = plt.figure(figsize=(8, 5))\n",
        "ax = [fig.add_subplot(2, 2, i) for i in range(1, 5)]\n",
        "\n",
        "\n",
        "bounds = np.array([[layer.radii[0]/1.e3, layer.radii[-1]/1.e3]\n",
        "                   for layer in planet_zog.layers])\n",
        "maxy = [15, 400, 12, 7000]\n",
        "for bound in bounds:\n",
        "    for i in range(4):\n",
        "        ax[i].fill_betweenx([0., maxy[i]],\n",
        "                            [bound[0], bound[0]],\n",
        "                            [bound[1], bound[1]], alpha=0.2)\n",
        "\n",
        "ax[0].plot(planet_zog.radii / 1.e3, planet_zog.density / 1.e3,\n",
        "           label=planet_zog.name)\n",
        "ax[0].plot(premradii / 1.e3, premdensity / 1.e3, linestyle=':', label='PREM')\n",
        "ax[0].set_ylabel('Density ($10^3$ kg/m$^3$)')\n",
        "ax[0].legend()\n",
        "\n",
        "# Make a subplot showing the calculated pressure profile\n",
        "ax[1].plot(planet_zog.radii / 1.e3, planet_zog.pressure / 1.e9)\n",
        "ax[1].plot(premradii / 1.e3, prempressure / 1.e9, linestyle=':')\n",
        "ax[1].set_ylabel('Pressure (GPa)')\n",
        "\n",
        "# Make a subplot showing the calculated gravity profile\n",
        "ax[2].plot(planet_zog.radii / 1.e3, planet_zog.gravity)\n",
        "ax[2].plot(premradii / 1.e3, premgravity, linestyle=':')\n",
        "ax[2].set_ylabel('Gravity (m/s$^2)$')\n",
        "ax[2].set_xlabel('Radius (km)')\n",
        "\n",
        "# Make a subplot showing the calculated temperature profile\n",
        "ax[3].plot(planet_zog.radii / 1.e3, planet_zog.temperature)\n",
        "ax[3].set_ylabel('Temperature (K)')\n",
        "ax[3].set_xlabel('Radius (km)')\n",
        "ax[3].set_ylim(0.,)\n",
        "\n",
        "# Finally, let's overlay some geotherms onto our model\n",
        "# geotherm\n",
        "labels = ['Stacey (1977)',\n",
        "          'Brown and Shankland (1981)',\n",
        "          'Anderson (1982)',\n",
        "          'Alfe et al. (2007)',\n",
        "          'Anzellini et al. (2013)']\n",
        "\n",
        "short_labels = ['S1977',\n",
        "                'BS1981',\n",
        "                'A1982',\n",
        "                'A2007',\n",
        "                'A2013']\n",
        "\n",
        "ax[3].plot(planet_zog.radii / 1.e3,\n",
        "burnman.geotherm.stacey_continental(planet_zog.depth),\n",
        "linestyle=':', label=short_labels[0])\n",
        "mask = planet_zog.depth > 269999.\n",
        "ax[3].plot(planet_zog.radii[mask] / 1.e3,\n",
        "           burnman.geotherm.brown_shankland(planet_zog.depth[mask]),\n",
        "           linestyle=':', label=short_labels[1])\n",
        "ax[3].plot(planet_zog.radii / 1.e3,\n",
        "           burnman.geotherm.anderson(planet_zog.depth),\n",
        "           linestyle=':', label=short_labels[2])\n",
        "\n",
        "ax[3].scatter([planet_zog.layers[0].radii[-1] / 1.e3,\n",
        "               planet_zog.layers[1].radii[-1] / 1.e3],\n",
        "              [5400., 4000.],\n",
        "              linestyle=':', label=short_labels[3])\n",
        "\n",
        "mask = planet_zog.pressure < 330.e9\n",
        "temperatures = Anz_interp(planet_zog.pressure[mask])\n",
        "ax[3].plot(planet_zog.radii[mask] / 1.e3, temperatures,\n",
        "           linestyle=':', label=short_labels[4])\n",
        "\n",
        "ax[3].legend()\n",
        "\n",
        "for i in range(2):\n",
        "    ax[i].set_xticklabels([])\n",
        "for i in range(4):\n",
        "    ax[i].set_xlim(0., max(planet_zog.radii) / 1.e3)\n",
        "    ax[i].set_ylim(0., maxy[i])\n",
        "\n",
        "fig.set_tight_layout(True)\n",
        "plt.show()"
      ]
    },
    {
      "cell_type": "markdown",
      "metadata": {},
      "source": [
        "And that's it! Next time, we'll look at some of BurnMan's fitting routines."
      ]
    }
  ],
  "metadata": {
    "colab": {
      "collapsed_sections": [],
      "name": "BurnMan_1.0_manuscript.ipynb",
      "provenance": []
    },
    "interpreter": {
      "hash": "d0e8ff0504fa29d441371c1f42f91c694e01f5e6e44698edccbd59f7213ffa15"
    },
    "kernelspec": {
      "display_name": "Python 3.9.2 64-bit ('3.9.2': pyenv)",
      "name": "python3"
    },
    "language_info": {
      "codemirror_mode": {
        "name": "ipython",
        "version": 3
      },
      "file_extension": ".py",
      "mimetype": "text/x-python",
      "name": "python",
      "nbconvert_exporter": "python",
      "pygments_lexer": "ipython3",
      "version": "3.9.2"
    }
  },
  "nbformat": 4,
  "nbformat_minor": 0
}
