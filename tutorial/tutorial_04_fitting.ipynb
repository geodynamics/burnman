{
  "cells": [
    {
      "cell_type": "markdown",
      "metadata": {
        "id": "C30Xe311ePd3"
      },
      "source": [
        "<h1>The BurnMan Tutorial</h1>\n",
        "<h2>Part 4: Fitting</h2>\n",
        "This file is part of BurnMan - a thermoelastic and thermodynamic toolkit\n",
        "for the Earth and Planetary Sciences\n",
        "\n",
        "Copyright (C) 2012 - 2021 by the BurnMan team,\n",
        "released under the GNU GPL v2 or later.\n"
      ]
    },
    {
      "cell_type": "markdown",
      "metadata": {
        "id": "13QqqnL6UzBk"
      },
      "source": [
        "# Introduction\n",
        "\n",
        "This ipython notebook is the fourth in a series designed to introduce new users to the code structure and functionalities present in BurnMan.\n",
        "\n",
        "## Demonstrates\n",
        "\n",
        "1. burnman.optimize.eos_fitting.fit_PTV_data\n",
        "2. burnman.optimize.composition_fitting.fit_composition_to_solution\n",
        "\n",
        "\n",
        "Everything in BurnMan and in this tutorial is defined in SI units. "
      ]
    },
    {
      "cell_type": "markdown",
      "metadata": {
        "id": "eFXuzpvW0rm2"
      },
      "source": [
        "## Importing BurnMan\n",
        "\n",
        "In the first part of this tutorial, we decided whether to install the version of BurnMan associated with the tutorial or use the local version. If you chose to install globally, or if you want to use a previously installed version, change the \"use_installed\" variable below to \"True\"."
      ]
    },
    {
      "cell_type": "code",
      "execution_count": null,
      "metadata": {},
      "outputs": [],
      "source": [
        "use_installed = False\n",
        "\n",
        "if not use_installed:\n",
        "    import os\n",
        "    import sys\n",
        "    if not os.path.exists('burnman') and os.path.exists('../../burnman'):\n",
        "        sys.path.insert(1, os.path.abspath('../../'))\n",
        "\n",
        "import burnman\n",
        "print(f'This tutorial will use BurnMan version {burnman.__version__}.')"
      ]
    },
    {
      "cell_type": "markdown",
      "metadata": {
        "id": "SVobSxhANZbM"
      },
      "source": [
        "# Fitting"
      ]
    },
    {
      "cell_type": "markdown",
      "metadata": {
        "id": "XkGTkGDwNppm"
      },
      "source": [
        "## Fitting to an equation of state"
      ]
    },
    {
      "cell_type": "code",
      "execution_count": null,
      "metadata": {
        "colab": {
          "base_uri": "https://localhost:8080/",
          "height": 1000
        },
        "id": "Fyh8uDFdNr0D",
        "outputId": "65478de5-262a-4b95-9036-46817f8331f6"
      },
      "outputs": [],
      "source": [
        "import numpy as np\n",
        "import matplotlib.pyplot as plt\n",
        "from burnman.tools.unitcell import molar_volume_from_unit_cell_volume\n",
        "from burnman.tools.misc import attribute_function\n",
        "from burnman.optimize.nonlinear_fitting import confidence_prediction_bands\n",
        "\n",
        "print('Least squares equation of state fitting\\n')\n",
        "\n",
        "print('1) Fitting to room temperature PV data\\n')\n",
        "# Now let's fit some EoS data\n",
        "# Let's just take a bit of data from Andrault et al. (2003) on stishovite\n",
        "PV = np.array([[0.0001, 46.5126, 0.0061],\n",
        "               [1.168, 46.3429, 0.0053],\n",
        "               [2.299, 46.1756, 0.0043],\n",
        "               [3.137, 46.0550, 0.0051],\n",
        "               [4.252, 45.8969, 0.0045],\n",
        "               [5.037, 45.7902, 0.0053],\n",
        "               [5.851, 45.6721, 0.0038],\n",
        "               [6.613, 45.5715, 0.0050],\n",
        "               [7.504, 45.4536, 0.0041],\n",
        "               [8.264, 45.3609, 0.0056],\n",
        "               [9.635, 45.1885, 0.0042],\n",
        "               [11.69, 44.947, 0.002],                \n",
        "               [17.67, 44.264, 0.002],\n",
        "               [22.38, 43.776, 0.003],\n",
        "               [29.38, 43.073, 0.009],\n",
        "               [37.71, 42.278, 0.008],\n",
        "               [46.03, 41.544, 0.017],\n",
        "               [52.73, 40.999, 0.009],\n",
        "               [26.32, 43.164, 0.006],\n",
        "               [30.98, 42.772, 0.005],\n",
        "               [34.21, 42.407, 0.003],\n",
        "               [38.45, 42.093, 0.004],\n",
        "               [43.37, 41.610, 0.004],\n",
        "               [47.49, 41.280, 0.007]])\n",
        "\n",
        "PTV = np.array([PV.T[0]*1.e9,\n",
        "                PV.T[0]*0. + 298.15,\n",
        "                molar_volume_from_unit_cell_volume(PV.T[1], 2.)]).T\n",
        "\n",
        "nul = 0.*PTV.T[0]\n",
        "PTV_covariances = np.array([[0.03*PTV.T[0], nul, nul],\n",
        "                            [nul, nul, nul],\n",
        "                            [nul, nul, molar_volume_from_unit_cell_volume(PV.T[2], 2.)]]).T\n",
        "\n",
        "# Here's where we fit the data\n",
        "# The mineral parameters are automatically updated during fitting\n",
        "stv = burnman.minerals.HP_2011_ds62.stv()\n",
        "params = ['V_0', 'K_0', 'Kprime_0']\n",
        "fitted_eos = burnman.optimize.eos_fitting.fit_PTV_data(stv, params, PTV, PTV_covariances, verbose=False)\n",
        "\n",
        "# Print the optimized parameters\n",
        "print('Optimized equation of state for stishovite:')\n",
        "burnman.tools.misc.pretty_print_values(fitted_eos.popt, fitted_eos.pcov, fitted_eos.fit_params)\n",
        "print('')\n",
        "\n",
        "# Create a corner plot of the covariances\n",
        "fig = burnman.nonlinear_fitting.corner_plot(fitted_eos.popt, fitted_eos.pcov,\n",
        "                                            params)\n",
        "axes = fig[1]\n",
        "axes[1][0].set_xlabel('$V_0$ ($\\\\times 10^{-5}$ m$^3$)')\n",
        "axes[1][1].set_xlabel('$K_0$ ($\\\\times 10^{11}$ Pa)')\n",
        "axes[0][0].set_ylabel('$K_0$ ($\\\\times 10^{11}$ Pa)')\n",
        "axes[1][0].set_ylabel('$K\\'_0$')\n",
        "plt.show()\n",
        "\n",
        "# Finally, let's plot our equation of state\n",
        "T = 298.15\n",
        "pressures = np.linspace(1.e5, 60.e9, 101)\n",
        "volumes = np.empty_like(pressures)\n",
        "\n",
        "PTVs = np.empty((len(pressures), 3))\n",
        "for i, P in enumerate(pressures):\n",
        "    stv.set_state(P, T)\n",
        "    PTVs[i] = [P, T, stv.V]\n",
        "\n",
        "# Plot the 95% confidence and prediction bands\n",
        "cp_bands = confidence_prediction_bands(model = fitted_eos,\n",
        "                                       x_array = PTVs,\n",
        "                                       confidence_interval = 0.95,\n",
        "                                       f=attribute_function(stv, 'V'),\n",
        "                                       flag='V')\n",
        "\n",
        "plt.fill_between(PTVs[:,0]/1.e9, cp_bands[2] * 1.e6, cp_bands[3] * 1.e6,\n",
        "                 color=[0.75, 0.25, 0.55], label='95% prediction bands')\n",
        "plt.fill_between(PTVs[:,0]/1.e9, cp_bands[0] * 1.e6, cp_bands[1] * 1.e6,\n",
        "                 color=[0.75, 0.95, 0.95], label='95% confidence bands')\n",
        "\n",
        "plt.plot(PTVs[:,0] / 1.e9, PTVs[:,2] * 1.e6,\n",
        "          label='Optimized fit for stishovite')\n",
        "plt.errorbar(PTV[:,0] / 1.e9, PTV[:,2] * 1.e6,\n",
        "              xerr=PTV_covariances.T[0][0] / 1.e9,\n",
        "              yerr=PTV_covariances.T[2][2] * 1.e6,\n",
        "              linestyle='None', marker='o', label='Andrault et al. (2003)')\n",
        "\n",
        "plt.ylabel(\"Volume (cm$^3$/mol)\")\n",
        "plt.xlabel(\"Pressure (GPa)\")\n",
        "plt.legend(loc=\"upper right\")\n",
        "plt.title(\"Stishovite EoS (room temperature)\")\n",
        "plt.show()\n",
        "\n",
        "\n",
        "# Plot the 95% confidence and prediction bands for the bulk modulus\n",
        "cp_bands = confidence_prediction_bands(model = fitted_eos,\n",
        "                                       x_array = PTVs,\n",
        "                                       confidence_interval = 0.95,\n",
        "                                       f=attribute_function(stv, 'K_T'),\n",
        "                                       flag='V')\n",
        "\n",
        "plt.fill_between(PTVs[:,0]/1.e9, (cp_bands[0])/1.e9, (cp_bands[1])/1.e9, color=[0.75, 0.95, 0.95], label='95% confidence band')\n",
        "plt.plot(PTVs[:,0]/1.e9, (cp_bands[0] + cp_bands[1])/2.e9, color='b', label='Best fit')\n",
        "\n",
        "plt.ylabel(\"Bulk modulus (GPa)\")\n",
        "plt.xlabel(\"Pressure (GPa)\")\n",
        "plt.legend(loc=\"upper right\")\n",
        "plt.title(\"Stishovite EoS; uncertainty in bulk modulus (room temperature)\")\n",
        "plt.show()"
      ]
    },
    {
      "cell_type": "markdown",
      "metadata": {
        "id": "fow-vPnOSVvu"
      },
      "source": [
        "## Fitting to a compositional model"
      ]
    },
    {
      "cell_type": "code",
      "execution_count": null,
      "metadata": {
        "colab": {
          "base_uri": "https://localhost:8080/"
        },
        "id": "g7C_nKvthteT",
        "outputId": "267e6a2b-fbfd-4ac9-ea6e-4cc428e9ae34"
      },
      "outputs": [],
      "source": [
        "    from burnman import minerals\n",
        "    from burnman.optimize.composition_fitting import fit_composition_to_solution\n",
        "    \n",
        "    # Here, we use the Jennings and Holland (2015) garnet,\n",
        "    # which has five endmembers: pyrope, almandine, grossular,\n",
        "    # andradite and knorringite\n",
        "    gt = minerals.JH_2015.garnet()\n",
        "\n",
        "    print(f'Endmembers: {gt.endmember_names}')\n",
        "    print(f'Elements: {gt.elements}')\n",
        "    print('Stoichiometric matrix:')\n",
        "    print(gt.stoichiometric_matrix)\n",
        "    print()\n",
        "\n",
        "    # The variables we are trying to fit are Fe (total), Ca, Mg\n",
        "    # Cr, Al, Si and Fe3+, all given in mole amounts.\n",
        "    fitted_variables = ['Fe', 'Ca', 'Mg', 'Cr', 'Al', 'Si', 'Fe3+']\n",
        "    variable_values = np.array([1.1, 2., 0., 0, 1.9, 3., 0.1])\n",
        "    variable_covariances = np.eye(7)*0.01*0.01\n",
        "\n",
        "    # Add some noise.\n",
        "    v_err = np.random.rand(7)\n",
        "    np.random.seed(100)\n",
        "    variable_values = np.random.multivariate_normal(variable_values,\n",
        "                                                    variable_covariances)\n",
        "\n",
        "    # Fe3+ isn't an element or a site-species of the solution model,\n",
        "    # so we need to provide the linear conversion from Fe3+ to\n",
        "    # elements and/or site species. In this case, Fe3+ resides only on\n",
        "    # the second site, and the JH_2015.gt model has labelled Fe3+ on that\n",
        "    # site as Fef. Therefore, the conversion is simply Fe3+ = Fef_B.\n",
        "    variable_conversions = {'Fe3+': {'Fef_B': 1.}}\n",
        "\n",
        "    # The next line does the heavy lifting\n",
        "    popt, pcov, res = fit_composition_to_solution(gt,\n",
        "                                                  fitted_variables,\n",
        "                                                  variable_values,\n",
        "                                                  variable_covariances,\n",
        "                                                  variable_conversions)\n",
        "\n",
        "    # We can set the composition of gt using the optimized parameters\n",
        "    gt.set_composition(popt)\n",
        "\n",
        "    # Print the optimized parameters and principal uncertainties\n",
        "    print('Molar fractions:')\n",
        "    for i in range(len(popt)):\n",
        "        print(f'{gt.endmember_names[i]}: '\n",
        "              f'{gt.molar_fractions[i]:.3f} +/- '\n",
        "              f'{np.sqrt(pcov[i][i]):.3f}')\n",
        "\n",
        "    print(f'Weighted residual: {res:.3f}')"
      ]
    },
    {
      "cell_type": "markdown",
      "metadata": {},
      "source": [
        "## Fitting phase proportions"
      ]
    },
    {
      "cell_type": "code",
      "execution_count": null,
      "metadata": {},
      "outputs": [],
      "source": [
        "import itertools\n",
        "from burnman.optimize.composition_fitting import fit_phase_proportions_to_bulk_composition\n",
        "\n",
        "\n",
        "# Load and transpose input data\n",
        "filename = '../burnman/data/input_fitting/Bertka_Fei_1997_mars_mantle.dat'\n",
        "with open(filename) as f:\n",
        "    column_names = f.readline().strip().split()[1:]\n",
        "data = np.genfromtxt(filename, dtype=None, encoding='utf8')\n",
        "data = list(map(list, itertools.zip_longest(*data, fillvalue=None)))\n",
        "\n",
        "# The first six columns are compositions given in weight % oxides\n",
        "compositions = np.array(data[:6])\n",
        "\n",
        "# The first row is the bulk composition\n",
        "bulk_composition = compositions[:, 0]\n",
        "\n",
        "# Load all the data into a dictionary\n",
        "data = {column_names[i]: np.array(data[i])\n",
        "        for i in range(len(column_names))}\n",
        "\n",
        "# Make ordered lists of samples (i.e. experiment ID) and phases\n",
        "samples = []\n",
        "phases = []\n",
        "for i in range(len(data['sample'])):\n",
        "    if data['sample'][i] not in samples:\n",
        "        samples.append(data['sample'][i])\n",
        "    if data['phase'][i] not in phases:\n",
        "        phases.append(data['phase'][i])\n",
        "\n",
        "samples.remove(\"bulk_composition\")\n",
        "phases.remove(\"bulk\")\n",
        "\n",
        "# Get the indices of all the phases present in each sample\n",
        "sample_indices = [[i for i in range(len(data['sample']))\n",
        "                    if data['sample'][i] == sample]\n",
        "                    for sample in samples]\n",
        "\n",
        "# Get the run pressures of each experiment\n",
        "pressures = [data['pressure'][indices[0]] for indices in sample_indices]\n",
        "\n",
        "# Create empty arrays to store the weight proportions of each phase,\n",
        "# and the principal uncertainties (we do not use the covariances here,\n",
        "# although they are calculated)\n",
        "weight_proportions = np.zeros((len(samples), len(phases)))*np.NaN\n",
        "weight_proportion_uncertainties = np.zeros((len(samples),\n",
        "                                            len(phases)))*np.NaN\n",
        "\n",
        "residuals = []\n",
        "# Loop over the samples, fitting phase proportions\n",
        "# to the provided bulk composition\n",
        "for i, sample in enumerate(samples):\n",
        "    # This line does the heavy lifting\n",
        "    popt, pcov, res = fit_phase_proportions_to_bulk_composition(compositions[:, sample_indices[i]],\n",
        "                                                                bulk_composition)\n",
        "\n",
        "    residuals.append(res)\n",
        "\n",
        "    # Fill the correct elements of the weight_proportions\n",
        "    # and weight_proportion_uncertainties arrays\n",
        "    sample_phases = [data['phase'][i] for i in sample_indices[i]]\n",
        "    for j, phase in enumerate(sample_phases):\n",
        "        weight_proportions[i, phases.index(phase)] = popt[j]\n",
        "        weight_proportion_uncertainties[i, phases.index(phase)] = np.sqrt(pcov[j][j])\n",
        "\n",
        "# Plot the data\n",
        "fig = plt.figure(figsize=(6, 6))\n",
        "ax = [fig.add_subplot(4, 1, 1)]\n",
        "ax.append(fig.add_subplot(4, 1, (2, 4)))\n",
        "for i, phase in enumerate(phases):\n",
        "    ebar = plt.errorbar(pressures, weight_proportions[:, i],\n",
        "                        yerr=weight_proportion_uncertainties[:, i],\n",
        "                        fmt=\"none\", zorder=2)\n",
        "    ax[1].scatter(pressures, weight_proportions[:, i], label=phase, zorder=3)\n",
        "\n",
        "ax[0].set_title('Phase proportions in the Martian Mantle (Bertka and Fei, 1997)')\n",
        "ax[0].scatter(pressures, residuals)\n",
        "for i in range(2):\n",
        "    ax[i].set_xlim(0., 40.)\n",
        "\n",
        "ax[1].set_ylim(0., 1.)\n",
        "ax[0].set_ylabel('Residual')\n",
        "ax[1].set_xlabel('Pressure (GPa)')\n",
        "ax[1].set_ylabel('Phase fraction (wt %)')\n",
        "ax[1].legend()\n",
        "fig.set_tight_layout(True)\n",
        "plt.show()"
      ]
    },
    {
      "cell_type": "markdown",
      "metadata": {},
      "source": [
        "And we're done! Next time, we'll look at how to determine equilibrium assemblages in BurnMan."
      ]
    }
  ],
  "metadata": {
    "colab": {
      "collapsed_sections": [],
      "name": "BurnMan_1.0_manuscript.ipynb",
      "provenance": []
    },
    "interpreter": {
      "hash": "d0e8ff0504fa29d441371c1f42f91c694e01f5e6e44698edccbd59f7213ffa15"
    },
    "kernelspec": {
      "display_name": "Python 3.9.2 64-bit ('3.9.2': pyenv)",
      "name": "python3"
    },
    "language_info": {
      "codemirror_mode": {
        "name": "ipython",
        "version": 3
      },
      "file_extension": ".py",
      "mimetype": "text/x-python",
      "name": "python",
      "nbconvert_exporter": "python",
      "pygments_lexer": "ipython3",
      "version": "3.9.2"
    }
  },
  "nbformat": 4,
  "nbformat_minor": 0
}
