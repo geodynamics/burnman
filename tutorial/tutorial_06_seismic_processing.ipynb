{
  "cells": [
    {
      "cell_type": "markdown",
      "metadata": {
        "id": "C30Xe311ePd3"
      },
      "source": [
        "<h1>The BurnMan Tutorial</h1>\n",
        "<h2>Part 6: Seismic processing</h2>\n",
        "This file is part of BurnMan - a thermoelastic and thermodynamic toolkit\n",
        "for the Earth and Planetary Sciences\n",
        "\n",
        "Copyright (C) 2012 - 2021 by the BurnMan team,\n",
        "released under the GNU GPL v2 or later.\n"
      ]
    },
    {
      "cell_type": "markdown",
      "metadata": {
        "id": "13QqqnL6UzBk"
      },
      "source": [
        "# Introduction\n",
        "\n",
        "This ipython notebook is the second in a series designed to introduce new users to the code structure and functionalities present in BurnMan.\n",
        "\n",
        "## Demonstrates\n",
        "\n",
        "1. burnman.equilibrate\n",
        "\n",
        "\n",
        "Everything in BurnMan and in this tutorial is defined in SI units. "
      ]
    },
    {
      "cell_type": "markdown",
      "metadata": {
        "id": "eFXuzpvW0rm2"
      },
      "source": [
        "## Importing BurnMan\n",
        "\n",
        "In the first part of this tutorial, we decided whether to install the version of BurnMan associated with the tutorial or use the local version. If you chose to install globally, or if you want to use a previously installed version, change the \"use_installed\" variable below to \"True\"."
      ]
    },
    {
      "cell_type": "code",
      "execution_count": null,
      "metadata": {},
      "outputs": [],
      "source": [
        "use_installed = False\n",
        "\n",
        "if not use_installed:\n",
        "    import os\n",
        "    import sys\n",
        "    if not os.path.exists('burnman') and os.path.exists('../../burnman'):\n",
        "        sys.path.insert(1, os.path.abspath('../../'))\n",
        "\n",
        "import burnman\n",
        "print(f'This tutorial will use BurnMan version {burnman.__version__}.')"
      ]
    },
    {
      "cell_type": "markdown",
      "metadata": {
        "id": "TZYWNOEVNsiW"
      },
      "source": [
        "# Seismic processing"
      ]
    }
  ],
  "metadata": {
    "colab": {
      "collapsed_sections": [],
      "name": "BurnMan_1.0_manuscript.ipynb",
      "provenance": []
    },
    "interpreter": {
      "hash": "d0e8ff0504fa29d441371c1f42f91c694e01f5e6e44698edccbd59f7213ffa15"
    },
    "kernelspec": {
      "display_name": "Python 3.9.2 64-bit ('3.9.2': pyenv)",
      "name": "python3"
    },
    "language_info": {
      "codemirror_mode": {
        "name": "ipython",
        "version": 3
      },
      "file_extension": ".py",
      "mimetype": "text/x-python",
      "name": "python",
      "nbconvert_exporter": "python",
      "pygments_lexer": "ipython3",
      "version": "3.9.2"
    }
  },
  "nbformat": 4,
  "nbformat_minor": 0
}
