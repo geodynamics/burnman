{
  "cells": [
    {
      "cell_type": "markdown",
      "metadata": {
        "id": "C30Xe311ePd3"
      },
      "source": [
        "<h1>The BurnMan Tutorial</h1>\n",
        "<h2>Part 2: The Composition Class</h2>\n",
        "This file is part of BurnMan - a thermoelastic and thermodynamic toolkit\n",
        "for the Earth and Planetary Sciences\n",
        "\n",
        "Copyright (C) 2012 - 2021 by the BurnMan team,\n",
        "released under the GNU GPL v2 or later.\n"
      ]
    },
    {
      "cell_type": "markdown",
      "metadata": {
        "id": "13QqqnL6UzBk"
      },
      "source": [
        "# Introduction\n",
        "\n",
        "This ipython notebook is the second in a series designed to introduce new users to the code structure and functionalities present in BurnMan.\n",
        "\n",
        "## Demonstrates\n",
        "\n",
        "1. burnman.Composition: Defining Composition objects, converting between molar, weight and atomic amounts, changing component bases. and modifying compositions.\n",
        "\n",
        "\n",
        "Everything in BurnMan and in this tutorial is defined in SI units. "
      ]
    },
    {
      "cell_type": "markdown",
      "metadata": {
        "id": "eFXuzpvW0rm2"
      },
      "source": [
        "## Importing BurnMan\n",
        "\n",
        "In the first part of this tutorial, we decided whether to install the version of BurnMan associated with the tutorial or use the local version. If you chose to install globally, or if you want to use a previously installed version, change the \"use_installed\" variable below to \"True\"."
      ]
    },
    {
      "cell_type": "code",
      "execution_count": null,
      "metadata": {},
      "outputs": [],
      "source": [
        "use_installed = False\n",
        "\n",
        "if not use_installed:\n",
        "    import os\n",
        "    import sys\n",
        "    if not os.path.exists('burnman') and os.path.exists('../../burnman'):\n",
        "        sys.path.insert(1, os.path.abspath('../../'))\n",
        "\n",
        "import burnman"
      ]
    },
    {
      "cell_type": "markdown",
      "metadata": {
        "id": "Ehh1BoufD5Ab"
      },
      "source": [
        "# The Composition class"
      ]
    },
    {
      "cell_type": "markdown",
      "metadata": {},
      "source": [
        "It is quite common in petrology to want to perform simple manipulations on chemical compositions. These manipulations might include:\n",
        "- converting between molar and weight percent of oxides or elements \n",
        "- changing from one compositional basis to another (e.g. 'FeO' and 'Fe2O3' to 'Fe' and 'O')\n",
        "- adding new chemical components to an existing composition in specific proportions with existing components.\n",
        "\n",
        "These operations are easy to perform in Excel (for example), but errors are surprisingly common, and are even present in published literature. BurnMan's Composition class is designed to make some of these common tasks easy and hopefully less error prone. Composition objects are initialised with a dictionary of component amounts (in any format), followed by a string that indicates whether that composition is given in \"molar\" amounts or \"weight\" (more technically mass, but weight is a more commonly used word in chemistry)."
      ]
    },
    {
      "cell_type": "code",
      "execution_count": null,
      "metadata": {
        "colab": {
          "base_uri": "https://localhost:8080/"
        },
        "id": "uxNk4MOOM67O",
        "outputId": "97c0dc57-43c8-449c-e77e-5ad3a6aa6678"
      },
      "outputs": [],
      "source": [
        "from burnman import Composition\n",
        "\n",
        "olivine_composition = Composition({'MgO': 1.8,\n",
        "                                   'FeO': 0.2,\n",
        "                                   'SiO2': 1.}, 'weight')"
      ]
    },
    {
      "cell_type": "markdown",
      "metadata": {},
      "source": [
        "After initialization, the \"print\" method can be used to directly print molar, weight or atomic amounts. Optional variables control the print precision and normalization of amounts."
      ]
    },
    {
      "cell_type": "code",
      "execution_count": null,
      "metadata": {},
      "outputs": [],
      "source": [
        "olivine_composition.print('molar', significant_figures=4,\n",
        "                          normalization_component='SiO2', normalization_amount=1.)\n",
        "olivine_composition.print('weight', significant_figures=4,\n",
        "                          normalization_component='total', normalization_amount=1.)\n",
        "olivine_composition.print('atomic', significant_figures=4,\n",
        "                          normalization_component='total', normalization_amount=7.)"
      ]
    },
    {
      "cell_type": "markdown",
      "metadata": {
        "id": "zTHyXRpG_rnf"
      },
      "source": [
        "Let's do something a little more complicated.\n",
        "When we're making a starting mix for petrological experiments, we often have to add additional components. For example, we add iron as Fe2O3 even if we want a reduced oxide starting mix, because FeO is not a stable stoichiometric compound.\n",
        "\n",
        "Here we show how to use BurnMan to create such mixes. In this case, let's say we want to create a KLB-1 starting mix (Takahashi, 1986). We know the weight proportions of the various oxides (including only components in the NCFMAS system):"
      ]
    },
    {
      "cell_type": "code",
      "execution_count": null,
      "metadata": {
        "id": "cPftoLohBZDO"
      },
      "outputs": [],
      "source": [
        "KLB1 = Composition({'SiO2': 44.48,\n",
        "                    'Al2O3': 3.59,\n",
        "                    'FeO': 8.10,\n",
        "                    'MgO': 39.22,\n",
        "                    'CaO': 3.44,\n",
        "                    'Na2O': 0.30}, 'weight')"
      ]
    },
    {
      "cell_type": "markdown",
      "metadata": {
        "id": "2zWBikkOBZb9"
      },
      "source": [
        "However, this composition is not the composition we wish to make in the lab. We need to make the following changes:\n",
        "- $\\text{CaO}$ and $\\text{Na}_2\\text{O}$ should be added as $\\text{CaCO}_3$ and $\\text{Na}_2\\text{CO}_3$.\n",
        "- $\\text{FeO}$ should be added as $\\text{Fe}_2\\text{O}_3$\n",
        "\n",
        "First, we change the bulk composition to satisfy these requirements. The molar amounts of the existing components are stored in a dictionary \"molar_composition\", and can be used to determine the amounts of CO2 and O to add to the bulk composition:"
      ]
    },
    {
      "cell_type": "code",
      "execution_count": null,
      "metadata": {
        "id": "ngiPLmUkCUt3"
      },
      "outputs": [],
      "source": [
        "CO2_molar = KLB1.molar_composition['CaO'] + KLB1.molar_composition['Na2O']\n",
        "O_molar = KLB1.molar_composition['FeO']*0.5\n",
        "\n",
        "KLB1.add_components(composition_dictionary = {'CO2': CO2_molar,\n",
        "                                              'O': O_molar},\n",
        "                    unit_type = 'molar')"
      ]
    },
    {
      "cell_type": "markdown",
      "metadata": {
        "id": "vIMmhWB4DGVr"
      },
      "source": [
        "Then we can change the component set to the oxidised, carbonated compounds and print the desired starting compositions, for 2 g total mass:"
      ]
    },
    {
      "cell_type": "code",
      "execution_count": null,
      "metadata": {
        "colab": {
          "base_uri": "https://localhost:8080/"
        },
        "id": "JiHv0rLwDPz7",
        "outputId": "c05bed16-cc3a-4c1b-c23b-0bd33e98a3fc"
      },
      "outputs": [],
      "source": [
        "KLB1.change_component_set(['Na2CO3', 'CaCO3', 'Fe2O3', 'MgO', 'Al2O3', 'SiO2'])\n",
        "KLB1.print('weight', significant_figures=4, normalization_amount=2.)"
      ]
    },
    {
      "cell_type": "markdown",
      "metadata": {},
      "source": [
        "And that's it! The next tutorial will be on making Layer and Planet objects for planetary science applications."
      ]
    }
  ],
  "metadata": {
    "colab": {
      "collapsed_sections": [],
      "name": "BurnMan_1.0_manuscript.ipynb",
      "provenance": []
    },
    "interpreter": {
      "hash": "d0e8ff0504fa29d441371c1f42f91c694e01f5e6e44698edccbd59f7213ffa15"
    },
    "kernelspec": {
      "display_name": "Python 3.9.2 64-bit ('3.9.2': pyenv)",
      "name": "python3"
    },
    "language_info": {
      "codemirror_mode": {
        "name": "ipython",
        "version": 3
      },
      "file_extension": ".py",
      "mimetype": "text/x-python",
      "name": "python",
      "nbconvert_exporter": "python",
      "pygments_lexer": "ipython3",
      "version": "3.9.2"
    }
  },
  "nbformat": 4,
  "nbformat_minor": 0
}
