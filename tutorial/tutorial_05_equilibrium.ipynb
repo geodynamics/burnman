{
  "cells": [
    {
      "cell_type": "markdown",
      "metadata": {
        "id": "C30Xe311ePd3"
      },
      "source": [
        "<h1>The BurnMan Tutorial</h1>\n",
        "<h2>Part 5: Equilibrium problems</h2>\n",
        "This file is part of BurnMan - a thermoelastic and thermodynamic toolkit\n",
        "for the Earth and Planetary Sciences\n",
        "\n",
        "Copyright (C) 2012 - 2021 by the BurnMan team,\n",
        "released under the GNU GPL v2 or later.\n"
      ]
    },
    {
      "cell_type": "markdown",
      "metadata": {
        "id": "13QqqnL6UzBk"
      },
      "source": [
        "# Introduction\n",
        "\n",
        "This ipython notebook is the second in a series designed to introduce new users to the code structure and functionalities present in BurnMan.\n",
        "\n",
        "## Demonstrates\n",
        "\n",
        "1. burnman.equilibrate\n",
        "\n",
        "\n",
        "Everything in BurnMan and in this tutorial is defined in SI units. "
      ]
    },
    {
      "cell_type": "markdown",
      "metadata": {
        "id": "eFXuzpvW0rm2"
      },
      "source": [
        "## Importing BurnMan\n",
        "\n",
        "In the first part of this tutorial, we decided whether to install the version of BurnMan associated with the tutorial or use the local version. If you chose to install globally, or if you want to use a previously installed version, change the \"use_installed\" variable below to \"True\"."
      ]
    },
    {
      "cell_type": "code",
      "execution_count": null,
      "metadata": {},
      "outputs": [],
      "source": [
        "use_installed = False\n",
        "\n",
        "if not use_installed:\n",
        "    import os\n",
        "    import sys\n",
        "    if not os.path.exists('burnman') and os.path.exists('../../burnman'):\n",
        "        sys.path.insert(1, os.path.abspath('../../'))\n",
        "\n",
        "import burnman"
      ]
    },
    {
      "cell_type": "markdown",
      "metadata": {
        "id": "TZYWNOEVNsiW"
      },
      "source": [
        "# Phase equilibria"
      ]
    },
    {
      "cell_type": "markdown",
      "metadata": {
        "id": "zXJ2gfj1Ehmm"
      },
      "source": [
        "## Multiphase equilibria the handrolled way\n",
        "### The olivine polymorphs"
      ]
    },
    {
      "cell_type": "code",
      "execution_count": null,
      "metadata": {
        "id": "v1kHRS34FB6L"
      },
      "outputs": [],
      "source": [
        "import numpy as np\n",
        "import matplotlib.pyplot as plt\n",
        "from scipy.optimize import root\n",
        "\n",
        "def equilibrate_fe_mg(polymorphs, pressure, temperature):\n",
        "\n",
        "  for p in polymorphs:\n",
        "    p.set_state(pressure, temperature)\n",
        "\n",
        "  def delta_mu(args):\n",
        "    x_fe_p1, x_fe_p2 = args\n",
        "    polymorphs[0].set_composition([1. - x_fe_p1, x_fe_p1])\n",
        "    polymorphs[1].set_composition([1. - x_fe_p2, x_fe_p2])\n",
        "\n",
        "    return polymorphs[0].partial_gibbs - polymorphs[1].partial_gibbs\n",
        "\n",
        "  \n",
        "  sol = root(delta_mu, [0.2, 0.4], method='hybr')\n",
        "  if sol.success:\n",
        "    for i in range(2):\n",
        "      polymorphs[i].set_composition([1. - sol.x[i], sol.x[i]])\n",
        "      polymorphs[i].set_state(pressure, temperature)"
      ]
    },
    {
      "cell_type": "code",
      "execution_count": null,
      "metadata": {
        "colab": {
          "base_uri": "https://localhost:8080/",
          "height": 283
        },
        "id": "NKbLRlDMed9B",
        "outputId": "a04b8b84-86d5-46e1-b878-4efd6b09091c"
      },
      "outputs": [],
      "source": [
        "from burnman import minerals\n",
        "\n",
        "ol = minerals.SLB_2011.mg_fe_olivine()\n",
        "wad = minerals.SLB_2011.mg_fe_wadsleyite()\n",
        "\n",
        "pressures = np.linspace(12.e9, 13.75e9, 11)\n",
        "x_fe_ol = np.empty_like(pressures)\n",
        "x_fe_wad = np.empty_like(pressures)\n",
        "\n",
        "for i, P in enumerate(pressures):\n",
        "  equilibrate_fe_mg([ol, wad], P, 1600.)\n",
        "\n",
        "  x_fe_ol[i] = ol.molar_fractions[1]\n",
        "  x_fe_wad[i] = wad.molar_fractions[1]\n",
        "\n",
        "plt.plot(x_fe_ol, pressures/1.e9, label='ol')\n",
        "plt.plot(x_fe_wad, pressures/1.e9, label='wad')\n",
        "\n",
        "plt.xlabel('p(Fe$_2$SiO$_4$)')\n",
        "plt.ylabel('Pressure (GPa)')\n",
        "plt.legend()\n",
        "plt.show()"
      ]
    },
    {
      "cell_type": "markdown",
      "metadata": {
        "id": "Hy6cKvNHW5h5"
      },
      "source": []
    },
    {
      "cell_type": "markdown",
      "metadata": {
        "id": "TKqjcxz-FI27"
      },
      "source": [
        "## Multiphase equilibria the efficient way\n",
        "### The olivine polymorphs revisited\n",
        "\n",
        "In the previous section, we created a custom function to calculate the equilibrium state between two phases. This is a tedious procedure, and one which users may wish to avoid! BurnMan now contains an experimental solver which can solve problems that can be expressed as an isochemical equilibrium problem.\n",
        "\n",
        "The binary loop shown in the previous section can be constructed by choosing a series of compositions at 1600 K and asking BurnMan where wadsleyite first becomes stable (has a phase fraction of zero). Actually, we can do even more, and ask where wadsleyite makes up 0, 25, 50, 75 and 100\\% of the rock."
      ]
    },
    {
      "cell_type": "code",
      "execution_count": null,
      "metadata": {
        "colab": {
          "base_uri": "https://localhost:8080/",
          "height": 283
        },
        "id": "uKwkLn5bFH9S",
        "outputId": "8f1f16f4-307f-4b3f-ef38-685b6aaa9f26"
      },
      "outputs": [],
      "source": [
        "from burnman import equilibrate\n",
        "\n",
        "assemblage = burnman.Composite([ol, wad])\n",
        "\n",
        "n_compositions = 20\n",
        "n_wad_fractions = 5\n",
        "x_fe_ol = np.linspace(0., 1., n_compositions)\n",
        "wad_fractions = np.linspace(0., 1., n_wad_fractions)\n",
        "pressures = np.empty((20, 5))\n",
        "for i, x_fa in enumerate(x_fe_ol):\n",
        "  composition = {'Mg': 1. - x_fa, 'Fe': x_fa, 'Si': 0.5, 'O': 2.}\n",
        "  equality_constraints = [['T', 1600.],\n",
        "                          ['phase_fraction', [wad, wad_fractions]]]\n",
        "\n",
        "  sols = burnman.equilibrate(composition, assemblage, equality_constraints)\n",
        "  pressures[i] = [sol.assemblage.pressure for sol in sols[0]]\n",
        "\n",
        "for i in range(n_wad_fractions):\n",
        "  plt.plot(x_fe_ol, pressures[:,i]/1.e9, label=f'$f_{{wad}}$ = {wad_fractions[i]:.2f}')\n",
        "\n",
        "plt.xlabel('p(Fe$_2$SiO$_4$)')\n",
        "plt.ylabel('Pressure (GPa)')\n",
        "plt.legend()\n",
        "plt.show()"
      ]
    },
    {
      "cell_type": "code",
      "execution_count": null,
      "metadata": {},
      "outputs": [],
      "source": []
    }
  ],
  "metadata": {
    "colab": {
      "collapsed_sections": [],
      "name": "BurnMan_1.0_manuscript.ipynb",
      "provenance": []
    },
    "interpreter": {
      "hash": "d0e8ff0504fa29d441371c1f42f91c694e01f5e6e44698edccbd59f7213ffa15"
    },
    "kernelspec": {
      "display_name": "Python 3.9.2 64-bit ('3.9.2': pyenv)",
      "name": "python3"
    },
    "language_info": {
      "codemirror_mode": {
        "name": "ipython",
        "version": 3
      },
      "file_extension": ".py",
      "mimetype": "text/x-python",
      "name": "python",
      "nbconvert_exporter": "python",
      "pygments_lexer": "ipython3",
      "version": "3.9.2"
    }
  },
  "nbformat": 4,
  "nbformat_minor": 0
}
